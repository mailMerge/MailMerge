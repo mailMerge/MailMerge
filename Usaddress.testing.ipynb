{
 "cells": [
  {
   "cell_type": "code",
   "execution_count": null,
   "metadata": {
    "collapsed": true
   },
   "outputs": [],
   "source": [
    "import os \n",
    "import usaddress "
   ]
  },
  {
   "cell_type": "code",
   "execution_count": 3,
   "metadata": {
    "collapsed": false
   },
   "outputs": [
    {
     "data": {
      "text/plain": [
       "(OrderedDict([('AddressNumber', u'1436'),\n",
       "              ('StreetName', u'Hemlock'),\n",
       "              ('StreetNamePostType', u'Ave'),\n",
       "              ('PlaceName', u'East Meadow'),\n",
       "              ('StateName', u'NY'),\n",
       "              ('ZipCode', u'11554')]),\n",
       " 'Street Address')"
      ]
     },
     "execution_count": 3,
     "metadata": {},
     "output_type": "execute_result"
    }
   ],
   "source": [
    "usaddress.tag(\"1436 Hemlock Ave East Meadow NY 11554\")"
   ]
  },
  {
   "cell_type": "code",
   "execution_count": 4,
   "metadata": {
    "collapsed": false
   },
   "outputs": [
    {
     "data": {
      "text/plain": [
       "(OrderedDict([('AddressNumber', u'1000'),\n",
       "              ('StreetName', u'American Bridge'),\n",
       "              ('StreetNamePostType', u'Way'),\n",
       "              ('PlaceName', u'Coraopolis'),\n",
       "              ('StateName', u'Pennsylvania'),\n",
       "              ('ZipCode', u'15108')]),\n",
       " 'Street Address')"
      ]
     },
     "execution_count": 4,
     "metadata": {},
     "output_type": "execute_result"
    }
   ],
   "source": [
    "usaddress.tag(\"1000 American Bridge Way Coraopolis Pennsylvania 15108\")"
   ]
  },
  {
   "cell_type": "code",
   "execution_count": 5,
   "metadata": {
    "collapsed": false
   },
   "outputs": [
    {
     "data": {
      "text/plain": [
       "(OrderedDict([('USPSBoxType', u'PO BOX'),\n",
       "              ('USPSBoxID', u'24859'),\n",
       "              ('PlaceName', u'Minneapolis'),\n",
       "              ('StateName', u'Minnesota'),\n",
       "              ('ZipCode', u'55424-0406')]),\n",
       " 'PO Box')"
      ]
     },
     "execution_count": 5,
     "metadata": {},
     "output_type": "execute_result"
    }
   ],
   "source": [
    "usaddress.tag(\"PO BOX 24859 Minneapolis Minnesota 55424-0406\")"
   ]
  },
  {
   "cell_type": "code",
   "execution_count": 16,
   "metadata": {
    "collapsed": false
   },
   "outputs": [
    {
     "data": {
      "text/plain": [
       "(OrderedDict([('Recipient', u'Zhe hu'),\n",
       "              ('AddressNumber', u'525'),\n",
       "              ('StreetName', u'Brooks'),\n",
       "              ('StreetNamePostType', u'Rd'),\n",
       "              ('PlaceName', u'Rome'),\n",
       "              ('StateName', u'New York'),\n",
       "              ('ZipCode', u'13441')]),\n",
       " 'Street Address')"
      ]
     },
     "execution_count": 16,
     "metadata": {},
     "output_type": "execute_result"
    }
   ],
   "source": [
    "usaddress.tag(\"Zhe hu 525 Brooks Rd Rome New York 13441\")"
   ]
  },
  {
   "cell_type": "code",
   "execution_count": 15,
   "metadata": {
    "collapsed": false
   },
   "outputs": [
    {
     "data": {
      "text/plain": [
       "(OrderedDict([('Recipient', u'Cody A. Williams'),\n",
       "              ('AddressNumber', u'290'),\n",
       "              ('StreetName', u'Elwood Davis'),\n",
       "              ('StreetNamePostType', u'Road'),\n",
       "              ('USPSBoxType', u'Box'),\n",
       "              ('USPSBoxID', u'3107'),\n",
       "              ('PlaceName', u'Syracuse'),\n",
       "              ('StateName', u'New York'),\n",
       "              ('ZipCode', u'13220')]),\n",
       " 'Street Address')"
      ]
     },
     "execution_count": 15,
     "metadata": {},
     "output_type": "execute_result"
    }
   ],
   "source": [
    "usaddress.tag(\"Cody A. Williams 290 Elwood Davis Road, Box 3107 Syracuse New York 13220\")"
   ]
  },
  {
   "cell_type": "code",
   "execution_count": 17,
   "metadata": {
    "collapsed": false
   },
   "outputs": [
    {
     "data": {
      "text/plain": [
       "(OrderedDict([('Recipient', u'Brandon Mendez'),\n",
       "              ('AddressNumber', u'350'),\n",
       "              ('StreetName', u'Essjay'),\n",
       "              ('StreetNamePostType', u'Rd'),\n",
       "              ('OccupancyType', u'Suite'),\n",
       "              ('OccupancyIdentifier', u'300'),\n",
       "              ('PlaceName', u'Williamsville'),\n",
       "              ('StateName', u'New York'),\n",
       "              ('ZipCode', u'14221')]),\n",
       " 'Street Address')"
      ]
     },
     "execution_count": 17,
     "metadata": {},
     "output_type": "execute_result"
    }
   ],
   "source": [
    "usaddress.tag(\"Brandon Mendez 350 Essjay Rd, Suite 300 Williamsville New York 14221\")"
   ]
  }
 ],
 "metadata": {
  "kernelspec": {
   "display_name": "Python 2",
   "language": "python",
   "name": "python2"
  },
  "language_info": {
   "codemirror_mode": {
    "name": "ipython",
    "version": 2
   },
   "file_extension": ".py",
   "mimetype": "text/x-python",
   "name": "python",
   "nbconvert_exporter": "python",
   "pygments_lexer": "ipython2",
   "version": "2.7.11"
  }
 },
 "nbformat": 4,
 "nbformat_minor": 0
}
