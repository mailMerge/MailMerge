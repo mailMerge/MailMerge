{
 "cells": [
  {
   "cell_type": "code",
   "execution_count": 1,
   "metadata": {
    "collapsed": false
   },
   "outputs": [],
   "source": [
    "import probablepeople as pp"
   ]
  },
  {
   "cell_type": "code",
   "execution_count": 2,
   "metadata": {
    "collapsed": true
   },
   "outputs": [],
   "source": [
    "# parse method just splits the string into several pieces and that's all it does "
   ]
  },
  {
   "cell_type": "code",
   "execution_count": 3,
   "metadata": {
    "collapsed": false
   },
   "outputs": [
    {
     "data": {
      "text/plain": [
       "[('Mr', 'PrefixMarital'),\n",
       " ('George', 'GivenName'),\n",
       " ('\"Gob\"', 'Nickname'),\n",
       " ('Bluth', 'Surname'),\n",
       " ('II', 'SuffixGenerational')]"
      ]
     },
     "execution_count": 3,
     "metadata": {},
     "output_type": "execute_result"
    }
   ],
   "source": [
    "pp.parse('Mr George \"Gob\" Bluth II')"
   ]
  },
  {
   "cell_type": "code",
   "execution_count": 4,
   "metadata": {
    "collapsed": true
   },
   "outputs": [],
   "source": [
    "#tag, not only splits text and put it in a map, but also has the capability to check if the input is the name of\n",
    "#a person, a household or acompany.(but it has its limit) "
   ]
  },
  {
   "cell_type": "code",
   "execution_count": 8,
   "metadata": {
    "collapsed": false
   },
   "outputs": [
    {
     "data": {
      "text/plain": [
       "(OrderedDict([('PrefixMarital', 'Mr'),\n",
       "              ('GivenName', 'George'),\n",
       "              ('Nickname', '\"Gob\"'),\n",
       "              ('Surname', 'Bluth'),\n",
       "              ('SuffixGenerational', 'II')]),\n",
       " 'Person')"
      ]
     },
     "execution_count": 8,
     "metadata": {},
     "output_type": "execute_result"
    }
   ],
   "source": [
    "pp.tag('Mr George \"Gob\" Bluth II')"
   ]
  },
  {
   "cell_type": "code",
   "execution_count": 9,
   "metadata": {
    "collapsed": false
   },
   "outputs": [
    {
     "data": {
      "text/plain": [
       "(OrderedDict([('CorporationName', 'SpongeBob SquarePants')]), 'Corporation')"
      ]
     },
     "execution_count": 9,
     "metadata": {},
     "output_type": "execute_result"
    }
   ],
   "source": [
    "pp.tag('SpongeBob SquarePants') #wow"
   ]
  },
  {
   "cell_type": "code",
   "execution_count": 23,
   "metadata": {
    "collapsed": false
   },
   "outputs": [
    {
     "data": {
      "text/plain": [
       "(OrderedDict([('CorporationName', 'Mr. SpongeBob'),\n",
       "              ('CorporationNameOrganization', 'SquarePants'),\n",
       "              ('CorporationNameBranchIdentifier', 'II')]),\n",
       " 'Corporation')"
      ]
     },
     "execution_count": 23,
     "metadata": {},
     "output_type": "execute_result"
    }
   ],
   "source": [
    "pp.tag(' Mr. SpongeBob SquarePants II')"
   ]
  },
  {
   "cell_type": "code",
   "execution_count": 26,
   "metadata": {
    "collapsed": false
   },
   "outputs": [
    {
     "data": {
      "text/plain": [
       "(OrderedDict([('GivenName', 'Jeffrey'), ('Surname', 'SquarePants')]), 'Person')"
      ]
     },
     "execution_count": 26,
     "metadata": {},
     "output_type": "execute_result"
    }
   ],
   "source": [
    "pp.tag('Jeffrey SquarePants')"
   ]
  },
  {
   "cell_type": "code",
   "execution_count": 10,
   "metadata": {
    "collapsed": false
   },
   "outputs": [
    {
     "data": {
      "text/plain": [
       "(OrderedDict([('GivenName', 'Jon'), ('Surname', 'Snow')]), 'Person')"
      ]
     },
     "execution_count": 10,
     "metadata": {},
     "output_type": "execute_result"
    }
   ],
   "source": [
    "pp.tag('Jon Snow')"
   ]
  },
  {
   "cell_type": "code",
   "execution_count": 13,
   "metadata": {
    "collapsed": false
   },
   "outputs": [
    {
     "data": {
      "text/plain": [
       "(OrderedDict([('GivenName', 'Gilbert'), ('Surname', 'du Motier')]), 'Person')"
      ]
     },
     "execution_count": 13,
     "metadata": {},
     "output_type": "execute_result"
    }
   ],
   "source": [
    "pp.tag('Gilbert du Motier')"
   ]
  },
  {
   "cell_type": "code",
   "execution_count": 21,
   "metadata": {
    "collapsed": false
   },
   "outputs": [
    {
     "ename": "RepeatedLabelError",
     "evalue": "\n\nERROR: Unable to tag this string because more than one area of the string has the same label\n\nORIGINAL STRING:  Marie-Joseph Paul Yves Roch Gilbert du Motier, Marquis de Lafayette \nPARSED TOKENS:    [('Marie-Joseph', 'Surname'), ('Paul', 'GivenName'), ('Yves', 'MiddleName'), ('Roch', 'Surname'), ('Gilbert', 'GivenName'), ('du', 'Surname'), ('Motier,', 'Surname'), ('Marquis', 'GivenName'), ('de', 'MiddleName'), ('Lafayette', 'Surname')]\nUNCERTAIN LABEL:  Surname\n\nWhen this error is raised, it's likely that either (1) the string is not a valid person/corporation name or (2) some tokens were labeled incorrectly\n\nTo report an error in labeling a valid name, open an issue at https://github.com/datamade/probablepeople/issues/new - it'll help us continue to improve probablepeople!\n\nFor more information, see the documentation at http://probablepeople.readthedocs.org/\n        ",
     "output_type": "error",
     "traceback": [
      "\u001b[1;31m---------------------------------------------------------------------------\u001b[0m",
      "\u001b[1;31mRepeatedLabelError\u001b[0m                        Traceback (most recent call last)",
      "\u001b[1;32m<ipython-input-21-e5f54af10f62>\u001b[0m in \u001b[0;36m<module>\u001b[1;34m()\u001b[0m\n\u001b[1;32m----> 1\u001b[1;33m \u001b[0mpp\u001b[0m\u001b[1;33m.\u001b[0m\u001b[0mtag\u001b[0m\u001b[1;33m(\u001b[0m\u001b[1;34m'Marie-Joseph Paul Yves Roch Gilbert du Motier, Marquis de Lafayette '\u001b[0m\u001b[1;33m)\u001b[0m\u001b[1;33m\u001b[0m\u001b[0m\n\u001b[0m",
      "\u001b[1;32m/home/jpack/anaconda2/lib/python2.7/site-packages/probablepeople/__init__.pyc\u001b[0m in \u001b[0;36mtag\u001b[1;34m(raw_string)\u001b[0m\n\u001b[0;32m    111\u001b[0m \u001b[1;33m\u001b[0m\u001b[0m\n\u001b[0;32m    112\u001b[0m         \u001b[1;32melse\u001b[0m\u001b[1;33m:\u001b[0m\u001b[1;33m\u001b[0m\u001b[0m\n\u001b[1;32m--> 113\u001b[1;33m             \u001b[1;32mraise\u001b[0m \u001b[0mRepeatedLabelError\u001b[0m\u001b[1;33m(\u001b[0m\u001b[0mraw_string\u001b[0m\u001b[1;33m,\u001b[0m \u001b[0mparse\u001b[0m\u001b[1;33m(\u001b[0m\u001b[0mraw_string\u001b[0m\u001b[1;33m)\u001b[0m\u001b[1;33m,\u001b[0m \u001b[0mlabel\u001b[0m\u001b[1;33m)\u001b[0m\u001b[1;33m\u001b[0m\u001b[0m\n\u001b[0m\u001b[0;32m    114\u001b[0m \u001b[1;33m\u001b[0m\u001b[0m\n\u001b[0;32m    115\u001b[0m         \u001b[0mprev_label\u001b[0m \u001b[1;33m=\u001b[0m \u001b[0mlabel\u001b[0m\u001b[1;33m\u001b[0m\u001b[0m\n",
      "\u001b[1;31mRepeatedLabelError\u001b[0m: \n\nERROR: Unable to tag this string because more than one area of the string has the same label\n\nORIGINAL STRING:  Marie-Joseph Paul Yves Roch Gilbert du Motier, Marquis de Lafayette \nPARSED TOKENS:    [('Marie-Joseph', 'Surname'), ('Paul', 'GivenName'), ('Yves', 'MiddleName'), ('Roch', 'Surname'), ('Gilbert', 'GivenName'), ('du', 'Surname'), ('Motier,', 'Surname'), ('Marquis', 'GivenName'), ('de', 'MiddleName'), ('Lafayette', 'Surname')]\nUNCERTAIN LABEL:  Surname\n\nWhen this error is raised, it's likely that either (1) the string is not a valid person/corporation name or (2) some tokens were labeled incorrectly\n\nTo report an error in labeling a valid name, open an issue at https://github.com/datamade/probablepeople/issues/new - it'll help us continue to improve probablepeople!\n\nFor more information, see the documentation at http://probablepeople.readthedocs.org/\n        "
     ]
    }
   ],
   "source": [
    "pp.tag('Marie-Joseph Paul Yves Roch Gilbert du Motier, Marquis de Lafayette ')"
   ]
  },
  {
   "cell_type": "code",
   "execution_count": 14,
   "metadata": {
    "collapsed": false
   },
   "outputs": [
    {
     "data": {
      "text/plain": [
       "(OrderedDict([('GivenName', 'Marquis'), ('Surname', 'de Lafayette')]),\n",
       " 'Person')"
      ]
     },
     "execution_count": 14,
     "metadata": {},
     "output_type": "execute_result"
    }
   ],
   "source": [
    "pp.tag(' Marquis de Lafayette')"
   ]
  },
  {
   "cell_type": "code",
   "execution_count": 17,
   "metadata": {
    "collapsed": false
   },
   "outputs": [
    {
     "data": {
      "text/plain": [
       "(OrderedDict([('GivenName', 'Adrienne'), ('Surname', 'de La Fayette')]),\n",
       " 'Person')"
      ]
     },
     "execution_count": 17,
     "metadata": {},
     "output_type": "execute_result"
    }
   ],
   "source": [
    "pp.tag('Adrienne de La Fayette')"
   ]
  },
  {
   "cell_type": "code",
   "execution_count": 19,
   "metadata": {
    "collapsed": false
   },
   "outputs": [
    {
     "data": {
      "text/plain": [
       "(OrderedDict([('GivenName', 'Lady'), ('Surname', 'Stark')]), 'Person')"
      ]
     },
     "execution_count": 19,
     "metadata": {},
     "output_type": "execute_result"
    }
   ],
   "source": [
    "pp.tag('Lady Stark')"
   ]
  },
  {
   "cell_type": "code",
   "execution_count": 20,
   "metadata": {
    "collapsed": false
   },
   "outputs": [
    {
     "data": {
      "text/plain": [
       "(OrderedDict([('GivenName', 'Lady'),\n",
       "              ('MiddleName', 'Catelyn'),\n",
       "              ('Surname', 'Stark')]),\n",
       " 'Person')"
      ]
     },
     "execution_count": 20,
     "metadata": {},
     "output_type": "execute_result"
    }
   ],
   "source": [
    "pp.tag('Lady Catelyn Stark')"
   ]
  },
  {
   "cell_type": "code",
   "execution_count": 27,
   "metadata": {
    "collapsed": false
   },
   "outputs": [
    {
     "ename": "RepeatedLabelError",
     "evalue": "\n\nERROR: Unable to tag this string because more than one area of the string has the same label\n\nORIGINAL STRING:   Fujiwara no Kamatari\nPARSED TOKENS:    [('Fujiwara', 'Surname'), ('no', 'GivenName'), ('Kamatari', 'Surname')]\nUNCERTAIN LABEL:  Surname\n\nWhen this error is raised, it's likely that either (1) the string is not a valid person/corporation name or (2) some tokens were labeled incorrectly\n\nTo report an error in labeling a valid name, open an issue at https://github.com/datamade/probablepeople/issues/new - it'll help us continue to improve probablepeople!\n\nFor more information, see the documentation at http://probablepeople.readthedocs.org/\n        ",
     "output_type": "error",
     "traceback": [
      "\u001b[1;31m---------------------------------------------------------------------------\u001b[0m",
      "\u001b[1;31mRepeatedLabelError\u001b[0m                        Traceback (most recent call last)",
      "\u001b[1;32m<ipython-input-27-19cf654e07d4>\u001b[0m in \u001b[0;36m<module>\u001b[1;34m()\u001b[0m\n\u001b[1;32m----> 1\u001b[1;33m \u001b[0mpp\u001b[0m\u001b[1;33m.\u001b[0m\u001b[0mtag\u001b[0m\u001b[1;33m(\u001b[0m\u001b[1;34m' Fujiwara no Kamatari'\u001b[0m\u001b[1;33m)\u001b[0m\u001b[1;33m\u001b[0m\u001b[0m\n\u001b[0m",
      "\u001b[1;32m/home/jpack/anaconda2/lib/python2.7/site-packages/probablepeople/__init__.pyc\u001b[0m in \u001b[0;36mtag\u001b[1;34m(raw_string)\u001b[0m\n\u001b[0;32m    111\u001b[0m \u001b[1;33m\u001b[0m\u001b[0m\n\u001b[0;32m    112\u001b[0m         \u001b[1;32melse\u001b[0m\u001b[1;33m:\u001b[0m\u001b[1;33m\u001b[0m\u001b[0m\n\u001b[1;32m--> 113\u001b[1;33m             \u001b[1;32mraise\u001b[0m \u001b[0mRepeatedLabelError\u001b[0m\u001b[1;33m(\u001b[0m\u001b[0mraw_string\u001b[0m\u001b[1;33m,\u001b[0m \u001b[0mparse\u001b[0m\u001b[1;33m(\u001b[0m\u001b[0mraw_string\u001b[0m\u001b[1;33m)\u001b[0m\u001b[1;33m,\u001b[0m \u001b[0mlabel\u001b[0m\u001b[1;33m)\u001b[0m\u001b[1;33m\u001b[0m\u001b[0m\n\u001b[0m\u001b[0;32m    114\u001b[0m \u001b[1;33m\u001b[0m\u001b[0m\n\u001b[0;32m    115\u001b[0m         \u001b[0mprev_label\u001b[0m \u001b[1;33m=\u001b[0m \u001b[0mlabel\u001b[0m\u001b[1;33m\u001b[0m\u001b[0m\n",
      "\u001b[1;31mRepeatedLabelError\u001b[0m: \n\nERROR: Unable to tag this string because more than one area of the string has the same label\n\nORIGINAL STRING:   Fujiwara no Kamatari\nPARSED TOKENS:    [('Fujiwara', 'Surname'), ('no', 'GivenName'), ('Kamatari', 'Surname')]\nUNCERTAIN LABEL:  Surname\n\nWhen this error is raised, it's likely that either (1) the string is not a valid person/corporation name or (2) some tokens were labeled incorrectly\n\nTo report an error in labeling a valid name, open an issue at https://github.com/datamade/probablepeople/issues/new - it'll help us continue to improve probablepeople!\n\nFor more information, see the documentation at http://probablepeople.readthedocs.org/\n        "
     ]
    }
   ],
   "source": [
    "pp.tag(' Fujiwara no Kamatari')"
   ]
  },
  {
   "cell_type": "code",
   "execution_count": 31,
   "metadata": {
    "collapsed": false
   },
   "outputs": [
    {
     "data": {
      "text/plain": [
       "(OrderedDict([('GivenName', 'Sakamoto'), ('Surname', 'Ryoma')]), 'Person')"
      ]
     },
     "execution_count": 31,
     "metadata": {},
     "output_type": "execute_result"
    }
   ],
   "source": [
    "pp.tag('Sakamoto Ryoma')"
   ]
  },
  {
   "cell_type": "code",
   "execution_count": 34,
   "metadata": {
    "collapsed": false,
    "scrolled": true
   },
   "outputs": [
    {
     "ename": "RepeatedLabelError",
     "evalue": "\n\nERROR: Unable to tag this string because more than one area of the string has the same label\n\nORIGINAL STRING:  Jia Yong zeng\nPARSED TOKENS:    [('Jia', 'Surname'), ('Yong', 'GivenName'), ('zeng', 'Surname')]\nUNCERTAIN LABEL:  Surname\n\nWhen this error is raised, it's likely that either (1) the string is not a valid person/corporation name or (2) some tokens were labeled incorrectly\n\nTo report an error in labeling a valid name, open an issue at https://github.com/datamade/probablepeople/issues/new - it'll help us continue to improve probablepeople!\n\nFor more information, see the documentation at http://probablepeople.readthedocs.org/\n        ",
     "output_type": "error",
     "traceback": [
      "\u001b[1;31m---------------------------------------------------------------------------\u001b[0m",
      "\u001b[1;31mRepeatedLabelError\u001b[0m                        Traceback (most recent call last)",
      "\u001b[1;32m<ipython-input-34-5bc9ee8af93c>\u001b[0m in \u001b[0;36m<module>\u001b[1;34m()\u001b[0m\n\u001b[1;32m----> 1\u001b[1;33m \u001b[0mpp\u001b[0m\u001b[1;33m.\u001b[0m\u001b[0mtag\u001b[0m\u001b[1;33m(\u001b[0m\u001b[1;34m'Jia Yong zeng'\u001b[0m\u001b[1;33m)\u001b[0m\u001b[1;33m\u001b[0m\u001b[0m\n\u001b[0m",
      "\u001b[1;32m/home/jpack/anaconda2/lib/python2.7/site-packages/probablepeople/__init__.pyc\u001b[0m in \u001b[0;36mtag\u001b[1;34m(raw_string)\u001b[0m\n\u001b[0;32m    111\u001b[0m \u001b[1;33m\u001b[0m\u001b[0m\n\u001b[0;32m    112\u001b[0m         \u001b[1;32melse\u001b[0m\u001b[1;33m:\u001b[0m\u001b[1;33m\u001b[0m\u001b[0m\n\u001b[1;32m--> 113\u001b[1;33m             \u001b[1;32mraise\u001b[0m \u001b[0mRepeatedLabelError\u001b[0m\u001b[1;33m(\u001b[0m\u001b[0mraw_string\u001b[0m\u001b[1;33m,\u001b[0m \u001b[0mparse\u001b[0m\u001b[1;33m(\u001b[0m\u001b[0mraw_string\u001b[0m\u001b[1;33m)\u001b[0m\u001b[1;33m,\u001b[0m \u001b[0mlabel\u001b[0m\u001b[1;33m)\u001b[0m\u001b[1;33m\u001b[0m\u001b[0m\n\u001b[0m\u001b[0;32m    114\u001b[0m \u001b[1;33m\u001b[0m\u001b[0m\n\u001b[0;32m    115\u001b[0m         \u001b[0mprev_label\u001b[0m \u001b[1;33m=\u001b[0m \u001b[0mlabel\u001b[0m\u001b[1;33m\u001b[0m\u001b[0m\n",
      "\u001b[1;31mRepeatedLabelError\u001b[0m: \n\nERROR: Unable to tag this string because more than one area of the string has the same label\n\nORIGINAL STRING:  Jia Yong zeng\nPARSED TOKENS:    [('Jia', 'Surname'), ('Yong', 'GivenName'), ('zeng', 'Surname')]\nUNCERTAIN LABEL:  Surname\n\nWhen this error is raised, it's likely that either (1) the string is not a valid person/corporation name or (2) some tokens were labeled incorrectly\n\nTo report an error in labeling a valid name, open an issue at https://github.com/datamade/probablepeople/issues/new - it'll help us continue to improve probablepeople!\n\nFor more information, see the documentation at http://probablepeople.readthedocs.org/\n        "
     ]
    }
   ],
   "source": [
    "pp.tag('Jia Yong zeng')"
   ]
  },
  {
   "cell_type": "code",
   "execution_count": 36,
   "metadata": {
    "collapsed": false
   },
   "outputs": [
    {
     "data": {
      "text/plain": [
       "(OrderedDict([('GivenName', 'Jia-Yong'), ('Surname', 'zeng')]), 'Person')"
      ]
     },
     "execution_count": 36,
     "metadata": {},
     "output_type": "execute_result"
    }
   ],
   "source": [
    "pp.tag('Jia-Yong zeng')"
   ]
  },
  {
   "cell_type": "code",
   "execution_count": 37,
   "metadata": {
    "collapsed": false
   },
   "outputs": [
    {
     "data": {
      "text/plain": [
       "(OrderedDict([('GivenName', 'Jiayong'), ('Surname', 'zeng')]), 'Person')"
      ]
     },
     "execution_count": 37,
     "metadata": {},
     "output_type": "execute_result"
    }
   ],
   "source": [
    "pp.tag('Jiayong zeng')"
   ]
  },
  {
   "cell_type": "code",
   "execution_count": 35,
   "metadata": {
    "collapsed": false
   },
   "outputs": [
    {
     "data": {
      "text/plain": [
       "(OrderedDict([('CorporationName', 'PricewaterhouseCoopers')]), 'Corporation')"
      ]
     },
     "execution_count": 35,
     "metadata": {},
     "output_type": "execute_result"
    }
   ],
   "source": [
    "pp.tag('PricewaterhouseCoopers')"
   ]
  },
  {
   "cell_type": "code",
   "execution_count": 38,
   "metadata": {
    "collapsed": false
   },
   "outputs": [
    {
     "data": {
      "text/plain": [
       "(OrderedDict([('CorporationName', 'bill and melinda gates foundation')]),\n",
       " 'Corporation')"
      ]
     },
     "execution_count": 38,
     "metadata": {},
     "output_type": "execute_result"
    }
   ],
   "source": [
    "pp.tag('bill and melinda gates foundation')"
   ]
  },
  {
   "cell_type": "code",
   "execution_count": 39,
   "metadata": {
    "collapsed": false
   },
   "outputs": [
    {
     "data": {
      "text/plain": [
       "(OrderedDict([('CorporationName',\n",
       "               'The Global to Fight AIDS, Tuberculosis and Malaria'),\n",
       "              ('CorporationNameOrganization', 'Fund')]),\n",
       " 'Corporation')"
      ]
     },
     "execution_count": 39,
     "metadata": {},
     "output_type": "execute_result"
    }
   ],
   "source": [
    "pp.tag('The Global Fund to Fight AIDS, Tuberculosis and Malaria')"
   ]
  },
  {
   "cell_type": "code",
   "execution_count": 41,
   "metadata": {
    "collapsed": false
   },
   "outputs": [
    {
     "data": {
      "text/plain": [
       "(OrderedDict([('CorporationName', 'university at buffalo')]), 'Corporation')"
      ]
     },
     "execution_count": 41,
     "metadata": {},
     "output_type": "execute_result"
    }
   ],
   "source": [
    "pp.tag('university at buffalo')"
   ]
  },
  {
   "cell_type": "code",
   "execution_count": null,
   "metadata": {
    "collapsed": true
   },
   "outputs": [],
   "source": [
    "# To sum up, the library, probablepeople works quick well under most of the test cases but i am pissed it thinks  \n",
    "#SpongeBob SquarePants is a mindless Corporation."
   ]
  }
 ],
 "metadata": {
  "kernelspec": {
   "display_name": "Python 2",
   "language": "python",
   "name": "python2"
  },
  "language_info": {
   "codemirror_mode": {
    "name": "ipython",
    "version": 2
   },
   "file_extension": ".py",
   "mimetype": "text/x-python",
   "name": "python",
   "nbconvert_exporter": "python",
   "pygments_lexer": "ipython2",
   "version": "2.7.11"
  }
 },
 "nbformat": 4,
 "nbformat_minor": 0
}
