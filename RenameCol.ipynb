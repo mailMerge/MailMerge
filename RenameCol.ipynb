{
 "cells": [
  {
   "cell_type": "markdown",
   "metadata": {},
   "source": [
    "## Renaming Columns\n",
    "\n",
    "By Renaming the  columns of imported files, we can manipulate the data more easily. Drop columns, format data, split data..."
   ]
  },
  {
   "cell_type": "code",
   "execution_count": 1,
   "metadata": {
    "collapsed": false
   },
   "outputs": [],
   "source": [
    "import pandas as pd\n",
    "from fuzzywuzzy import fuzz\n",
    "from fuzzywuzzy import process"
   ]
  },
  {
   "cell_type": "code",
   "execution_count": 2,
   "metadata": {
    "collapsed": false
   },
   "outputs": [
    {
     "name": "stdout",
     "output_type": "stream",
     "text": [
      "2159StudentsAddFERPAisN.XLSX\r\n",
      "AAU Deans.xlsx\r\n",
      "Business and Deans combined list 10-09-2015.xlsx\r\n",
      "Fall 2015 EE NYS Graduate Students.xlsx\r\n",
      "Greater Buffalo Business partners and ECI.xlsx\r\n",
      "Mail Merge Script Project-mailing list notes.docx\r\n",
      "MailMerge2.ipynb\r\n",
      "RenameCol.ipynb\r\n",
      "SEAS Alumni for Mailing September 2015.xls\r\n",
      "SEAS faculty and staff Local Address and Phone (1).xlsb\r\n",
      "STEM UP employers mailing list for SEAS.xls\r\n",
      "SUNY and Govt Officials.xlsx\r\n",
      "Start UP NY Companies.xlsx\r\n",
      "UB Mailing List.xlsx\r\n",
      "USNEWS mailing addresses.xlsx\r\n"
     ]
    }
   ],
   "source": [
    "ls "
   ]
  },
  {
   "cell_type": "code",
   "execution_count": 71,
   "metadata": {
    "collapsed": false
   },
   "outputs": [],
   "source": [
    "df = pd.read_excel('SEAS Alumni for Mailing September 2015.xls')\n",
    "#df.head()"
   ]
  },
  {
   "cell_type": "code",
   "execution_count": 41,
   "metadata": {
    "collapsed": true
   },
   "outputs": [],
   "source": [
    "# List of headers from provided excel files \n",
    "Headers = [\n",
    "       u'Event Registration: STEM Fair 2015 (Wednesday, October  7, 2015): Organization Name',\n",
    "       u'Event Registration: STEM Fair 2015 (Wednesday, October  7, 2015): Fullname',\n",
    "       u'Event Registration: STEM Fair 2015 (Wednesday, October  7, 2015): Title',\n",
    "       u'Event Registration: STEM Fair 2015 (Wednesday, October  7, 2015): Division',\n",
    "       u'Event Registration: STEM Fair 2015 (Wednesday, October  7, 2015): Street Address',\n",
    "       u'Event Registration: STEM Fair 2015 (Wednesday, October  7, 2015): City',\n",
    "       u'Event Registration: STEM Fair 2015 (Wednesday, October  7, 2015): State',\n",
    "       u'Event Registration: STEM Fair 2015 (Wednesday, October  7, 2015): Zip',\n",
    "        \n",
    "       u'EMPLOYEEID',u'STUDENT', u'EFFDT', u'EFF_STATUS', u'COUNTRY', u'ADDRESS1', u'ADDRESS2', u'ADDRESS3',\n",
    "       u'ADDRESS4', u'CITY', u'COUNTY',u'STATE', u'POSTAL', u'COUNTRYDESCR',\n",
    "           \n",
    "       u'Firstname', u'Lastname', u'Title', u'Institution', u'School',\n",
    "       u'Street 1', u'Street 2', u'City', u'State', u'Zipcode', u'Email',\n",
    "           \n",
    "       u'Firstname', u'Lastname', u'Title', u'Institution', u'School',\n",
    "       u'Street 1', u'Street 2', u'City', u'State', u'Zipcode', \n",
    "        \n",
    "       u'Last Name', u'First Name', u'E-Mail Address', u'Plan',\n",
    "       u'Perm Address 1', u'Perm City', u'Perm State', u'Perm Postal',\n",
    "       u'Perm Postalplus4', u'Perm County', u'Perm State Descr',\n",
    "       u'Dorm Address 1', u'Dorm Address 2', u'Dorm Address 3',\n",
    "       u'Dorm Address 4', u'Dorm City', u'Dorm State', u'Dorm Postal',\n",
    "       u'Dorm Postalplus4', u'Dorm Country', u'Dorm Country Descr',\n",
    "       u'Dorm Eff Status',\n",
    "           \n",
    "       u'ID', u'Firstname', u'Lastname', u'Title', u'Institution',\n",
    "       u'Department', u'Street 1', u'Street 2', u'City', u'State', u'Zipcode',\n",
    "    \n",
    "       u'ID_NUMBER', u'PREF_NAME_SORT', u'RECORD_STATUS', u'SALUTATION',\n",
    "       u'FIRST_NAME', u'LAST_NAME', u'HOME_STREET1', u'HOME_STREET2',\n",
    "       u'HOME_STREET3', u'HOME_FOREIGN_CITYZIP', u'HOME_COUNTRY', u'HOME_CITY',\n",
    "       u'HOME_STATE_CODE', u'HOME_ZIP_CODE', u'WORK_TITLE',\n",
    "       u'WORK_COMPANY_NAME1', u'WORK_COMPANY_NAME2', u'WORK_STREET1',\n",
    "       u'WORK_STREET2', u'WORK_STREET3', u'WORK_FOREIGN_CITYZIP',\n",
    "       u'WORK_COUNTRY', u'WORK_CITY', u'WORK_STATE_CODE', u'WORK_ZIP_CODE',\n",
    "       u'EMAIL_ADDRESS',\n",
    "    \n",
    "       u'ID', u'FirstName', u'Lastname', u'Title', u'Institution',\n",
    "       u'Department', u'Street 1', u'Street 2', u'City', u'State', u'Zip',\n",
    "       u'Email', u'Website',\n",
    "    \n",
    "       u'ID', u'Firstname', u'Lastname', u'Title', u'Institution',\n",
    "       u'Department', u'Street 1', u'Street 2', u'City', u'State', u'Zip',\n",
    "       u'Email',\n",
    "    \n",
    "       u'Firstname', u'Lastname', u'Title', u'Company', u'DepartmentName',\n",
    "       u'Street 1', u'Street 2', u'City', u'State', u'Zip', u'Email',\n",
    "       u'Phone-office', u'Phone-cell', u'Website',\n",
    "    \n",
    "       u'Firstname', u'Lastname', u'Title', u'Institution', u'Department',\n",
    "       u'Street 1', u'Street 2', u'City', u'State', u'Zip'\n",
    "       \n",
    "]"
   ]
  },
  {
   "cell_type": "markdown",
   "metadata": {},
   "source": [
    "### Standardize Column Headers (needs some work)"
   ]
  },
  {
   "cell_type": "code",
   "execution_count": 68,
   "metadata": {
    "collapsed": false
   },
   "outputs": [],
   "source": [
    "def correct_header(columnname):\n",
    "    \n",
    "    ''' An attempt to standardize and rename column headers for manipulation later, could be used in conjunction with df.rename()\n",
    "    Possible Issues: Having 2 or more columns be labled the same '''\n",
    "    \n",
    "    #list of possible \"correct\" column headers \n",
    "    correct_headers = ['First Name', 'Last Name','Fullname','Student Name','Job Title', 'Title','ID',\n",
    "                       'Institution','School','Company','Company Name1','Company Name2','Organization Name','Department','Division',\n",
    "                       'Email Address','Street Address','Street 1','Dorm Address 1','Dorm Address 2','Dorm Address 3',\n",
    "                       'Dorm Address 4','Address 1','Street 2','Address 2','Address','Street 3','Address 3','Street 4','Address 4',\n",
    "                       'Work Street 1','Work Street 2','Work Street 2','Work Street 3','Work Street 4',\n",
    "                       'Zipcode','Home Zipcode','Work_City','Dorm Postalplus4','HOME_FOREIGN_CITYZIP','WORK_FOREIGN_CITYZIP','Work_State','Work_Country',\n",
    "                       'Postal','City','County','State','Country']\n",
    "    \n",
    "    # if column is exact match return name\n",
    "    if columnname in correct_headers:  # might want to make this a dict for O(1) lookups\n",
    "        return columnname#, 100\n",
    "    \n",
    "    # if column name is longer than 20 characters, return best quess based on last 15 characters\n",
    "    if len(columnname) > 20:\n",
    "        new_name, score = process.extractOne(columnname[-15:], correct_headers) \n",
    "        return new_name#, score\n",
    "    \n",
    "    # for all others, \n",
    "    else:\n",
    "        new_name, score = process.extractOne(columnname, correct_headers)\n",
    "        \n",
    "    #if score > 80, return new_name \n",
    "    if score < 80:\n",
    "        # returns orginal name if match is bad\n",
    "        return columnname#, score\n",
    "    else:\n",
    "        return new_name#, score"
   ]
  },
  {
   "cell_type": "markdown",
   "metadata": {},
   "source": [
    "### Tests\n",
    "\n",
    "(fuzzy match, Match score) "
   ]
  },
  {
   "cell_type": "code",
   "execution_count": 50,
   "metadata": {
    "collapsed": false
   },
   "outputs": [
    {
     "name": "stdout",
     "output_type": "stream",
     "text": [
      "Original:  Event Registration: STEM Fair 2015 (Wednesday, October  7, 2015): Organization Name \n",
      "Corrected:  ('Organization Name', 94) \n",
      "\n",
      "Original:  Event Registration: STEM Fair 2015 (Wednesday, October  7, 2015): Fullname \n",
      "Corrected:  ('Fullname', 90) \n",
      "\n",
      "Original:  Event Registration: STEM Fair 2015 (Wednesday, October  7, 2015): Title \n",
      "Corrected:  ('Title', 90) \n",
      "\n",
      "Original:  Event Registration: STEM Fair 2015 (Wednesday, October  7, 2015): Division \n",
      "Corrected:  ('Division', 90) \n",
      "\n",
      "Original:  Event Registration: STEM Fair 2015 (Wednesday, October  7, 2015): Street Address \n",
      "Corrected:  ('Street Address', 100) \n",
      "\n",
      "Original:  Event Registration: STEM Fair 2015 (Wednesday, October  7, 2015): City \n",
      "Corrected:  ('City', 90) \n",
      "\n",
      "Original:  Event Registration: STEM Fair 2015 (Wednesday, October  7, 2015): State \n",
      "Corrected:  ('State', 90) \n",
      "\n",
      "Original:  Event Registration: STEM Fair 2015 (Wednesday, October  7, 2015): Zip \n",
      "Corrected:  ('ID', 45) \n",
      "\n",
      "Original:  EMPLOYEEID \n",
      "Corrected:  ('ID', 90) \n",
      "\n",
      "Original:  STUDENT \n",
      "Corrected:  ('Student Name', 90) \n",
      "\n",
      "Original:  EFFDT \n",
      "Corrected:  (u'EFFDT', 45) \n",
      "\n",
      "Original:  EFF_STATUS \n",
      "Corrected:  (u'EFF_STATUS', 72) \n",
      "\n",
      "Original:  COUNTRY \n",
      "Corrected:  ('Country', 100) \n",
      "\n",
      "Original:  ADDRESS1 \n",
      "Corrected:  ('Address 1', 94) \n",
      "\n",
      "Original:  ADDRESS2 \n",
      "Corrected:  ('Address 2', 94) \n",
      "\n",
      "Original:  ADDRESS3 \n",
      "Corrected:  ('Address 3', 94) \n",
      "\n",
      "Original:  ADDRESS4 \n",
      "Corrected:  ('Address 4', 94) \n",
      "\n",
      "Original:  CITY \n",
      "Corrected:  ('City', 100) \n",
      "\n",
      "Original:  COUNTY \n",
      "Corrected:  ('County', 100) \n",
      "\n",
      "Original:  STATE \n",
      "Corrected:  ('State', 100) \n",
      "\n",
      "Original:  POSTAL \n",
      "Corrected:  ('Postal', 100) \n",
      "\n",
      "Original:  COUNTRYDESCR \n",
      "Corrected:  ('Country', 90) \n",
      "\n",
      "Original:  Firstname \n",
      "Corrected:  ('First Name', 95) \n",
      "\n",
      "Original:  Lastname \n",
      "Corrected:  ('Last Name', 94) \n",
      "\n",
      "Original:  Title \n",
      "Corrected:  (u'Title', 100) \n",
      "\n",
      "Original:  Institution \n",
      "Corrected:  (u'Institution', 100) \n",
      "\n",
      "Original:  School \n",
      "Corrected:  (u'School', 100) \n",
      "\n",
      "Original:  Street 1 \n",
      "Corrected:  (u'Street 1', 100) \n",
      "\n",
      "Original:  Street 2 \n",
      "Corrected:  (u'Street 2', 100) \n",
      "\n",
      "Original:  City \n",
      "Corrected:  (u'City', 100) \n",
      "\n",
      "Original:  State \n",
      "Corrected:  (u'State', 100) \n",
      "\n",
      "Original:  Zipcode \n",
      "Corrected:  (u'Zipcode', 100) \n",
      "\n",
      "Original:  Email \n",
      "Corrected:  ('Email Address', 90) \n",
      "\n",
      "Original:  Firstname \n",
      "Corrected:  ('First Name', 95) \n",
      "\n",
      "Original:  Lastname \n",
      "Corrected:  ('Last Name', 94) \n",
      "\n",
      "Original:  Title \n",
      "Corrected:  (u'Title', 100) \n",
      "\n",
      "Original:  Institution \n",
      "Corrected:  (u'Institution', 100) \n",
      "\n",
      "Original:  School \n",
      "Corrected:  (u'School', 100) \n",
      "\n",
      "Original:  Street 1 \n",
      "Corrected:  (u'Street 1', 100) \n",
      "\n",
      "Original:  Street 2 \n",
      "Corrected:  (u'Street 2', 100) \n",
      "\n",
      "Original:  City \n",
      "Corrected:  (u'City', 100) \n",
      "\n",
      "Original:  State \n",
      "Corrected:  (u'State', 100) \n",
      "\n",
      "Original:  Zipcode \n",
      "Corrected:  (u'Zipcode', 100) \n",
      "\n",
      "Original:  Last Name \n",
      "Corrected:  (u'Last Name', 100) \n",
      "\n",
      "Original:  First Name \n",
      "Corrected:  (u'First Name', 100) \n",
      "\n",
      "Original:  E-Mail Address \n",
      "Corrected:  ('Email Address', 96) \n",
      "\n",
      "Original:  Plan \n",
      "Corrected:  (u'Plan', 68) \n",
      "\n",
      "Original:  Perm Address 1 \n",
      "Corrected:  ('Address 1', 90) \n",
      "\n",
      "Original:  Perm City \n",
      "Corrected:  ('City', 90) \n",
      "\n",
      "Original:  Perm State \n",
      "Corrected:  ('State', 90) \n",
      "\n",
      "Original:  Perm Postal \n",
      "Corrected:  ('Postal', 90) \n",
      "\n",
      "Original:  Perm Postalplus4 \n",
      "Corrected:  ('Postal', 90) \n",
      "\n",
      "Original:  Perm County \n",
      "Corrected:  ('County', 90) \n",
      "\n",
      "Original:  Perm State Descr \n",
      "Corrected:  ('State', 90) \n",
      "\n",
      "Original:  Dorm Address 1 \n",
      "Corrected:  (u'Dorm Address 1', 100) \n",
      "\n",
      "Original:  Dorm Address 2 \n",
      "Corrected:  (u'Dorm Address 2', 100) \n",
      "\n",
      "Original:  Dorm Address 3 \n",
      "Corrected:  (u'Dorm Address 3', 100) \n",
      "\n",
      "Original:  Dorm Address 4 \n",
      "Corrected:  (u'Dorm Address 4', 100) \n",
      "\n",
      "Original:  Dorm City \n",
      "Corrected:  ('City', 90) \n",
      "\n",
      "Original:  Dorm State \n",
      "Corrected:  ('State', 90) \n",
      "\n",
      "Original:  Dorm Postal \n",
      "Corrected:  ('Postal', 90) \n",
      "\n",
      "Original:  Dorm Postalplus4 \n",
      "Corrected:  ('Postal', 90) \n",
      "\n",
      "Original:  Dorm Country \n",
      "Corrected:  ('Country', 90) \n",
      "\n",
      "Original:  Dorm Country Descr \n",
      "Corrected:  ('Country', 90) \n",
      "\n",
      "Original:  Dorm Eff Status \n",
      "Corrected:  (u'Dorm Eff Status', 72) \n",
      "\n",
      "Original:  ID \n",
      "Corrected:  (u'ID', 100) \n",
      "\n",
      "Original:  Firstname \n",
      "Corrected:  ('First Name', 95) \n",
      "\n",
      "Original:  Lastname \n",
      "Corrected:  ('Last Name', 94) \n",
      "\n",
      "Original:  Title \n",
      "Corrected:  (u'Title', 100) \n",
      "\n",
      "Original:  Institution \n",
      "Corrected:  (u'Institution', 100) \n",
      "\n",
      "Original:  Department \n",
      "Corrected:  (u'Department', 100) \n",
      "\n",
      "Original:  Street 1 \n",
      "Corrected:  (u'Street 1', 100) \n",
      "\n",
      "Original:  Street 2 \n",
      "Corrected:  (u'Street 2', 100) \n",
      "\n",
      "Original:  City \n",
      "Corrected:  (u'City', 100) \n",
      "\n",
      "Original:  State \n",
      "Corrected:  (u'State', 100) \n",
      "\n",
      "Original:  Zipcode \n",
      "Corrected:  (u'Zipcode', 100) \n",
      "\n",
      "Original:  ID_NUMBER \n",
      "Corrected:  ('ID', 90) \n",
      "\n",
      "Original:  PREF_NAME_SORT \n",
      "Corrected:  (u'PREF_NAME_SORT', 57) \n",
      "\n",
      "Original:  RECORD_STATUS \n",
      "Corrected:  (u'RECORD_STATUS', 72) \n",
      "\n",
      "Original:  SALUTATION \n",
      "Corrected:  (u'SALUTATION', 57) \n",
      "\n",
      "Original:  FIRST_NAME \n",
      "Corrected:  ('First Name', 90) \n",
      "\n",
      "Original:  LAST_NAME \n",
      "Corrected:  ('Last Name', 89) \n",
      "\n",
      "Original:  HOME_STREET1 \n",
      "Corrected:  ('Street 1', 84) \n",
      "\n",
      "Original:  HOME_STREET2 \n",
      "Corrected:  ('Street 2', 84) \n",
      "\n",
      "Original:  HOME_STREET3 \n",
      "Corrected:  ('Street 3', 84) \n",
      "\n",
      "Original:  HOME_FOREIGN_CITYZIP \n",
      "Corrected:  (u'HOME_FOREIGN_CITYZIP', 100) \n",
      "\n",
      "Original:  HOME_COUNTRY \n",
      "Corrected:  ('Country', 90) \n",
      "\n",
      "Original:  HOME_CITY \n",
      "Corrected:  ('City', 90) \n",
      "\n",
      "Original:  HOME_STATE_CODE \n",
      "Corrected:  ('State', 90) \n",
      "\n",
      "Original:  HOME_ZIP_CODE \n",
      "Corrected:  ('Home Zipcode', 88) \n",
      "\n",
      "Original:  WORK_TITLE \n",
      "Corrected:  ('Title', 90) \n",
      "\n",
      "Original:  WORK_COMPANY_NAME1 \n",
      "Corrected:  ('Company', 90) \n",
      "\n",
      "Original:  WORK_COMPANY_NAME2 \n",
      "Corrected:  ('Company', 90) \n",
      "\n",
      "Original:  WORK_STREET1 \n",
      "Corrected:  ('Work Street 1', 88) \n",
      "\n",
      "Original:  WORK_STREET2 \n",
      "Corrected:  ('Work Street 2', 88) \n",
      "\n",
      "Original:  WORK_STREET3 \n",
      "Corrected:  ('Work Street 3', 88) \n",
      "\n",
      "Original:  WORK_FOREIGN_CITYZIP \n",
      "Corrected:  (u'WORK_FOREIGN_CITYZIP', 100) \n",
      "\n",
      "Original:  WORK_COUNTRY \n",
      "Corrected:  ('Work_Country', 100) \n",
      "\n",
      "Original:  WORK_CITY \n",
      "Corrected:  ('Work_City', 100) \n",
      "\n",
      "Original:  WORK_STATE_CODE \n",
      "Corrected:  ('Work_State', 90) \n",
      "\n",
      "Original:  WORK_ZIP_CODE \n",
      "Corrected:  (u'WORK_ZIP_CODE', 77) \n",
      "\n",
      "Original:  EMAIL_ADDRESS \n",
      "Corrected:  ('Email Address', 92) \n",
      "\n",
      "Original:  ID \n",
      "Corrected:  (u'ID', 100) \n",
      "\n",
      "Original:  FirstName \n",
      "Corrected:  ('First Name', 95) \n",
      "\n",
      "Original:  Lastname \n",
      "Corrected:  ('Last Name', 94) \n",
      "\n",
      "Original:  Title \n",
      "Corrected:  (u'Title', 100) \n",
      "\n",
      "Original:  Institution \n",
      "Corrected:  (u'Institution', 100) \n",
      "\n",
      "Original:  Department \n",
      "Corrected:  (u'Department', 100) \n",
      "\n",
      "Original:  Street 1 \n",
      "Corrected:  (u'Street 1', 100) \n",
      "\n",
      "Original:  Street 2 \n",
      "Corrected:  (u'Street 2', 100) \n",
      "\n",
      "Original:  City \n",
      "Corrected:  (u'City', 100) \n",
      "\n",
      "Original:  State \n",
      "Corrected:  (u'State', 100) \n",
      "\n",
      "Original:  Zip \n",
      "Corrected:  ('Zipcode', 90) \n",
      "\n",
      "Original:  Email \n",
      "Corrected:  ('Email Address', 90) \n",
      "\n",
      "Original:  Website \n",
      "Corrected:  (u'Website', 50) \n",
      "\n",
      "Original:  ID \n",
      "Corrected:  (u'ID', 100) \n",
      "\n",
      "Original:  Firstname \n",
      "Corrected:  ('First Name', 95) \n",
      "\n",
      "Original:  Lastname \n",
      "Corrected:  ('Last Name', 94) \n",
      "\n",
      "Original:  Title \n",
      "Corrected:  (u'Title', 100) \n",
      "\n",
      "Original:  Institution \n",
      "Corrected:  (u'Institution', 100) \n",
      "\n",
      "Original:  Department \n",
      "Corrected:  (u'Department', 100) \n",
      "\n",
      "Original:  Street 1 \n",
      "Corrected:  (u'Street 1', 100) \n",
      "\n",
      "Original:  Street 2 \n",
      "Corrected:  (u'Street 2', 100) \n",
      "\n",
      "Original:  City \n",
      "Corrected:  (u'City', 100) \n",
      "\n",
      "Original:  State \n",
      "Corrected:  (u'State', 100) \n",
      "\n",
      "Original:  Zip \n",
      "Corrected:  ('Zipcode', 90) \n",
      "\n",
      "Original:  Email \n",
      "Corrected:  ('Email Address', 90) \n",
      "\n",
      "Original:  Firstname \n",
      "Corrected:  ('First Name', 95) \n",
      "\n",
      "Original:  Lastname \n",
      "Corrected:  ('Last Name', 94) \n",
      "\n",
      "Original:  Title \n",
      "Corrected:  (u'Title', 100) \n",
      "\n",
      "Original:  Company \n",
      "Corrected:  (u'Company', 100) \n",
      "\n",
      "Original:  DepartmentName \n",
      "Corrected:  ('Department', 83) \n",
      "\n",
      "Original:  Street 1 \n",
      "Corrected:  (u'Street 1', 100) \n",
      "\n",
      "Original:  Street 2 \n",
      "Corrected:  (u'Street 2', 100) \n",
      "\n",
      "Original:  City \n",
      "Corrected:  (u'City', 100) \n",
      "\n",
      "Original:  State \n",
      "Corrected:  (u'State', 100) \n",
      "\n",
      "Original:  Zip \n",
      "Corrected:  ('Zipcode', 90) \n",
      "\n",
      "Original:  Email \n",
      "Corrected:  ('Email Address', 90) \n",
      "\n",
      "Original:  Phone-office \n",
      "Corrected:  (u'Phone-office', 58) \n",
      "\n",
      "Original:  Phone-cell \n",
      "Corrected:  (u'Phone-cell', 55) \n",
      "\n",
      "Original:  Website \n",
      "Corrected:  (u'Website', 50) \n",
      "\n",
      "Original:  Firstname \n",
      "Corrected:  ('First Name', 95) \n",
      "\n",
      "Original:  Lastname \n",
      "Corrected:  ('Last Name', 94) \n",
      "\n",
      "Original:  Title \n",
      "Corrected:  (u'Title', 100) \n",
      "\n",
      "Original:  Institution \n",
      "Corrected:  (u'Institution', 100) \n",
      "\n",
      "Original:  Department \n",
      "Corrected:  (u'Department', 100) \n",
      "\n",
      "Original:  Street 1 \n",
      "Corrected:  (u'Street 1', 100) \n",
      "\n",
      "Original:  Street 2 \n",
      "Corrected:  (u'Street 2', 100) \n",
      "\n",
      "Original:  City \n",
      "Corrected:  (u'City', 100) \n",
      "\n",
      "Original:  State \n",
      "Corrected:  (u'State', 100) \n",
      "\n",
      "Original:  Zip \n",
      "Corrected:  ('Zipcode', 90) \n",
      "\n"
     ]
    }
   ],
   "source": [
    "for item in Headers:\n",
    "    print 'Original: ', item, '\\nCorrected: ',correct_header(item),'\\n'"
   ]
  },
  {
   "cell_type": "code",
   "execution_count": 69,
   "metadata": {
    "collapsed": false
   },
   "outputs": [
    {
     "data": {
      "text/plain": [
       "'Country'"
      ]
     },
     "execution_count": 69,
     "metadata": {},
     "output_type": "execute_result"
    }
   ],
   "source": [
    "correct_header('COUNTRYDESCR')"
   ]
  },
  {
   "cell_type": "code",
   "execution_count": 28,
   "metadata": {
    "collapsed": false
   },
   "outputs": [
    {
     "data": {
      "text/plain": [
       "('workzip', 63)"
      ]
     },
     "execution_count": 28,
     "metadata": {},
     "output_type": "execute_result"
    }
   ],
   "source": [
    "correct_header('workzip')"
   ]
  },
  {
   "cell_type": "code",
   "execution_count": 16,
   "metadata": {
    "collapsed": false
   },
   "outputs": [
    {
     "data": {
      "text/plain": [
       "'Home Zipcode'"
      ]
     },
     "execution_count": 16,
     "metadata": {},
     "output_type": "execute_result"
    }
   ],
   "source": [
    "correct_header('HOME_ZIP_CODE')"
   ]
  },
  {
   "cell_type": "code",
   "execution_count": 51,
   "metadata": {
    "collapsed": false
   },
   "outputs": [
    {
     "data": {
      "text/plain": [
       "('ID', 45)"
      ]
     },
     "execution_count": 51,
     "metadata": {},
     "output_type": "execute_result"
    }
   ],
   "source": [
    "correct_header('Event Registration: STEM Fair 2015 (Wednesday, October  7, 2015): Zip')"
   ]
  },
  {
   "cell_type": "markdown",
   "metadata": {},
   "source": [
    "### Create unique column headers \n",
    "This should probably come after renaming columns. \n",
    "This is used to prevent issues with pandas have duplicate col names."
   ]
  },
  {
   "cell_type": "code",
   "execution_count": 10,
   "metadata": {
    "collapsed": false
   },
   "outputs": [],
   "source": [
    "def unique_columns(df_columns):\n",
    "    seen = set()\n",
    "    for col in df_columns:\n",
    "        append = 1\n",
    "        newitem = col\n",
    "\n",
    "        while newitem in seen:\n",
    "            append += 1\n",
    "            newitem = \"{} {}\".format(col, append)\n",
    "\n",
    "        yield newitem\n",
    "        seen.add(newitem)"
   ]
  },
  {
   "cell_type": "code",
   "execution_count": 73,
   "metadata": {
    "collapsed": false
   },
   "outputs": [
    {
     "name": "stdout",
     "output_type": "stream",
     "text": [
      "Index([                  u'ID',       u'PREF_NAME_SORT',\n",
      "              u'RECORD_STATUS',           u'SALUTATION',\n",
      "                 u'First Name',            u'Last Name',\n",
      "                   u'Street 1',             u'Street 2',\n",
      "                   u'Street 3', u'HOME_FOREIGN_CITYZIP',\n",
      "                    u'Country',                 u'City',\n",
      "                      u'State',         u'Home Zipcode',\n",
      "                      u'Title',              u'Company',\n",
      "                  u'Company 2',        u'Work Street 1',\n",
      "              u'Work Street 2',        u'Work Street 3',\n",
      "       u'WORK_FOREIGN_CITYZIP',         u'Work_Country',\n",
      "                  u'Work_City',           u'Work_State',\n",
      "              u'WORK_ZIP_CODE',        u'Email Address'],\n",
      "      dtype='object')\n"
     ]
    }
   ],
   "source": [
    "# List of New column names \n",
    "new_col = [correct_header(col) for col in df.columns]\n",
    "df.columns = list(unique_columns(new_col))\n",
    "print df.columns"
   ]
  },
  {
   "cell_type": "code",
   "execution_count": 72,
   "metadata": {
    "collapsed": false
   },
   "outputs": [
    {
     "data": {
      "text/plain": [
       "[u'ID_NUMBER',\n",
       " u'PREF_NAME_SORT',\n",
       " u'RECORD_STATUS',\n",
       " u'SALUTATION',\n",
       " u'FIRST_NAME',\n",
       " u'LAST_NAME',\n",
       " u'HOME_STREET1',\n",
       " u'HOME_STREET2',\n",
       " u'HOME_STREET3',\n",
       " u'HOME_FOREIGN_CITYZIP',\n",
       " u'HOME_COUNTRY',\n",
       " u'HOME_CITY',\n",
       " u'HOME_STATE_CODE',\n",
       " u'HOME_ZIP_CODE',\n",
       " u'WORK_TITLE',\n",
       " u'WORK_COMPANY_NAME1',\n",
       " u'WORK_COMPANY_NAME2',\n",
       " u'WORK_STREET1',\n",
       " u'WORK_STREET2',\n",
       " u'WORK_STREET3',\n",
       " u'WORK_FOREIGN_CITYZIP',\n",
       " u'WORK_COUNTRY',\n",
       " u'WORK_CITY',\n",
       " u'WORK_STATE_CODE',\n",
       " u'WORK_ZIP_CODE',\n",
       " u'EMAIL_ADDRESS']"
      ]
     },
     "execution_count": 72,
     "metadata": {},
     "output_type": "execute_result"
    }
   ],
   "source": [
    "# List of original columns \n",
    "org_col = df.columns\n",
    "list(org_col)"
   ]
  },
  {
   "cell_type": "code",
   "execution_count": 74,
   "metadata": {
    "collapsed": false,
    "scrolled": true
   },
   "outputs": [
    {
     "data": {
      "text/plain": [
       "Index([                  u'ID',       u'PREF_NAME_SORT',\n",
       "              u'RECORD_STATUS',           u'SALUTATION',\n",
       "                 u'First Name',            u'Last Name',\n",
       "                   u'Street 1',             u'Street 2',\n",
       "                   u'Street 3', u'HOME_FOREIGN_CITYZIP',\n",
       "                    u'Country',                 u'City',\n",
       "                      u'State',         u'Home Zipcode',\n",
       "                      u'Title',              u'Company',\n",
       "                  u'Company 2',        u'Work Street 1',\n",
       "              u'Work Street 2',        u'Work Street 3',\n",
       "       u'WORK_FOREIGN_CITYZIP',         u'Work_Country',\n",
       "                  u'Work_City',           u'Work_State',\n",
       "              u'WORK_ZIP_CODE',        u'Email Address'],\n",
       "      dtype='object')"
      ]
     },
     "execution_count": 74,
     "metadata": {},
     "output_type": "execute_result"
    }
   ],
   "source": [
    "df.columns"
   ]
  },
  {
   "cell_type": "markdown",
   "metadata": {},
   "source": [
    "### Drop Columns not needed \n",
    "needs work "
   ]
  },
  {
   "cell_type": "code",
   "execution_count": 75,
   "metadata": {
    "collapsed": false
   },
   "outputs": [
    {
     "name": "stdout",
     "output_type": "stream",
     "text": [
      "['ID', 'First Name', 'Last Name', 'Street 1', 'Street 2', 'Country', 'City', 'State', 'Title', 'Company']\n"
     ]
    },
    {
     "data": {
      "text/plain": [
       "Index([u'ID', u'First Name', u'Last Name', u'Street 1', u'Street 2',\n",
       "       u'Country', u'City', u'State', u'Title', u'Company'],\n",
       "      dtype='object')"
      ]
     },
     "execution_count": 75,
     "metadata": {},
     "output_type": "execute_result"
    }
   ],
   "source": [
    "# If names match this list keep them in datafram, else drop them \n",
    "headers = ['ID','First Name','Last Name','Student Name','Fullname','Title','Company','Organization Name','Division','Institution','Department','Address 1','Address 2','Address 3','Street 1','Street 2','City','State','Zipcode','Postal','HOME_ZIP_CODE','County','Country']\n",
    "cols = [col for col in df.columns if col in headers]\n",
    "print cols\n",
    "df = df[cols]\n",
    "df.columns"
   ]
  },
  {
   "cell_type": "markdown",
   "metadata": {},
   "source": [
    "### Split Student Name or fullname"
   ]
  },
  {
   "cell_type": "code",
   "execution_count": 76,
   "metadata": {
    "collapsed": false
   },
   "outputs": [
    {
     "ename": "IndentationError",
     "evalue": "expected an indented block (<ipython-input-76-1c3b3be8a9c5>, line 3)",
     "output_type": "error",
     "traceback": [
      "\u001b[0;36m  File \u001b[0;32m\"<ipython-input-76-1c3b3be8a9c5>\"\u001b[0;36m, line \u001b[0;32m3\u001b[0m\n\u001b[0;31m    \u001b[0m\n\u001b[0m    ^\u001b[0m\n\u001b[0;31mIndentationError\u001b[0m\u001b[0;31m:\u001b[0m expected an indented block\n"
     ]
    }
   ],
   "source": [
    "if 'Fullname' in df.columns:\n",
    "    \n",
    "    "
   ]
  },
  {
   "cell_type": "markdown",
   "metadata": {},
   "source": [
    "### rename Columns "
   ]
  },
  {
   "cell_type": "code",
   "execution_count": null,
   "metadata": {
    "collapsed": true
   },
   "outputs": [],
   "source": [
    "df.rename()\n",
    "\n",
    "#Organization name --> Company \n",
    "# Street Address -> Street or Addresss\n",
    "# Division -> departemnt \n",
    "# Organization -> Company \n",
    "# school -> Comany\n",
    "# Institution -> Company "
   ]
  },
  {
   "cell_type": "markdown",
   "metadata": {},
   "source": [
    "### Rearrange Columns "
   ]
  },
  {
   "cell_type": "code",
   "execution_count": null,
   "metadata": {
    "collapsed": true
   },
   "outputs": [],
   "source": [
    "# First Name, Last Name, "
   ]
  }
 ],
 "metadata": {
  "kernelspec": {
   "display_name": "Python 2",
   "language": "python",
   "name": "python2"
  },
  "language_info": {
   "codemirror_mode": {
    "name": "ipython",
    "version": 2
   },
   "file_extension": ".py",
   "mimetype": "text/x-python",
   "name": "python",
   "nbconvert_exporter": "python",
   "pygments_lexer": "ipython2",
   "version": "2.7.11"
  }
 },
 "nbformat": 4,
 "nbformat_minor": 0
}
