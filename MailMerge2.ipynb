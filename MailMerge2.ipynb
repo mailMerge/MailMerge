{
 "cells": [
  {
   "cell_type": "code",
   "execution_count": 3,
   "metadata": {
    "collapsed": true
   },
   "outputs": [],
   "source": [
    "import glob\n",
    "import pandas as pd\n",
    "import numpy as np\n",
    "import os\n",
    "import usaddress\n",
    "import probablepeople\n",
    "import dedupe"
   ]
  },
  {
   "cell_type": "markdown",
   "metadata": {},
   "source": [
    "### Current Directory"
   ]
  },
  {
   "cell_type": "code",
   "execution_count": 9,
   "metadata": {
    "collapsed": false
   },
   "outputs": [
    {
     "name": "stdout",
     "output_type": "stream",
     "text": [
      "/Users/Matthew/Documents/UB-COMPSCI/Spring_2016/MailMerge\n"
     ]
    }
   ],
   "source": [
    "currentDir = os.getcwd()\n",
    "print os.getcwd()"
   ]
  },
  {
   "cell_type": "code",
   "execution_count": 10,
   "metadata": {
    "collapsed": false
   },
   "outputs": [
    {
     "data": {
      "text/plain": [
       "['.DS_Store',\n",
       " '.ipynb_checkpoints',\n",
       " 'Fall 2015 EE NYS Graduate Students.xlsx',\n",
       " 'gislabtr12.pdf',\n",
       " 'Mail Merge Work Breakdown Structure.docx',\n",
       " 'Mail-Merge-Project-Plan.docx',\n",
       " 'MailMerge.ipynb',\n",
       " 'MailMerge2.ipynb',\n",
       " 'STEM UP employers mailing list for SEAS.xls']"
      ]
     },
     "execution_count": 10,
     "metadata": {},
     "output_type": "execute_result"
    }
   ],
   "source": [
    "os.listdir(currentDir)"
   ]
  },
  {
   "cell_type": "markdown",
   "metadata": {},
   "source": [
    "###Find files in folder (.xlsx, .xls, .csv) "
   ]
  },
  {
   "cell_type": "code",
   "execution_count": 24,
   "metadata": {
    "collapsed": false
   },
   "outputs": [
    {
     "name": "stdout",
     "output_type": "stream",
     "text": [
      "['Fall 2015 EE NYS Graduate Students.csv', 'Fall 2015 EE NYS Graduate Students.xlsx', 'STEM UP employers mailing list for SEAS.xls']\n"
     ]
    }
   ],
   "source": [
    "fileList = []\n",
    "for file in os.listdir(currentDir):\n",
    "    if file.endswith(\".xls\") or file.endswith(\".xlsx\") or file.endswith(\".csv\"):\n",
    "        fileList.append(file)\n",
    "print fileList"
   ]
  },
  {
   "cell_type": "markdown",
   "metadata": {},
   "source": [
    "### Or using glob "
   ]
  },
  {
   "cell_type": "code",
   "execution_count": 25,
   "metadata": {
    "collapsed": false
   },
   "outputs": [
    {
     "name": "stdout",
     "output_type": "stream",
     "text": [
      "['STEM UP employers mailing list for SEAS.xls', 'Fall 2015 EE NYS Graduate Students.xlsx', 'Fall 2015 EE NYS Graduate Students.csv']\n"
     ]
    }
   ],
   "source": [
    "fileTypes = ('*.xls', '*.xlsx','*.csv') # the tuple of file types\n",
    "fileList = []\n",
    "for files in fileTypes:\n",
    "    fileList.extend(glob.glob(files))\n",
    "\n",
    "print fileList "
   ]
  },
  {
   "cell_type": "markdown",
   "metadata": {},
   "source": [
    "### Import files first then normalize? \n",
    "import into pandas data frame "
   ]
  },
  {
   "cell_type": "code",
   "execution_count": 41,
   "metadata": {
    "collapsed": false
   },
   "outputs": [],
   "source": [
    "# \n",
    "\n",
    "for files in fileList:\n",
    "    if files.endswith('.xlsx'):\n",
    "        df = pd.read_excel(file)\n",
    "    elif files.endswith('.csv'):\n",
    "        dfcsv = pd.read_csv(file)\n",
    "    "
   ]
  },
  {
   "cell_type": "code",
   "execution_count": 42,
   "metadata": {
    "collapsed": false
   },
   "outputs": [
    {
     "data": {
      "text/html": [
       "<div>\n",
       "<table border=\"1\" class=\"dataframe\">\n",
       "  <thead>\n",
       "    <tr style=\"text-align: right;\">\n",
       "      <th></th>\n",
       "      <th>Event Registration: STEM Fair 2015 (Wednesday, October  7, 2015): Organization Name</th>\n",
       "      <th>Event Registration: STEM Fair 2015 (Wednesday, October  7, 2015): Fullname</th>\n",
       "      <th>Event Registration: STEM Fair 2015 (Wednesday, October  7, 2015): Title</th>\n",
       "      <th>Event Registration: STEM Fair 2015 (Wednesday, October  7, 2015): Division</th>\n",
       "      <th>Event Registration: STEM Fair 2015 (Wednesday, October  7, 2015): Street Address</th>\n",
       "      <th>Event Registration: STEM Fair 2015 (Wednesday, October  7, 2015): City</th>\n",
       "      <th>Event Registration: STEM Fair 2015 (Wednesday, October  7, 2015): State</th>\n",
       "      <th>Event Registration: STEM Fair 2015 (Wednesday, October  7, 2015): Zip</th>\n",
       "    </tr>\n",
       "  </thead>\n",
       "  <tbody>\n",
       "    <tr>\n",
       "      <th>0</th>\n",
       "      <td>313 Recruiting Squadron</td>\n",
       "      <td>Sheila Pickard</td>\n",
       "      <td>Recruiting Support Manager</td>\n",
       "      <td>NaN</td>\n",
       "      <td>313 Recruiting Squadron\\n401 N Main St Suite 4</td>\n",
       "      <td>N Syracuse</td>\n",
       "      <td>New York</td>\n",
       "      <td>13212</td>\n",
       "    </tr>\n",
       "    <tr>\n",
       "      <th>1</th>\n",
       "      <td>Air Force Research Laboratory - Rome Lab</td>\n",
       "      <td>Steven D. Farr</td>\n",
       "      <td>Senior Scientist</td>\n",
       "      <td>AFRL/RIS</td>\n",
       "      <td>AFRL/RIS\\n525 Brooks Rd</td>\n",
       "      <td>Rome</td>\n",
       "      <td>New York</td>\n",
       "      <td>13441</td>\n",
       "    </tr>\n",
       "    <tr>\n",
       "      <th>2</th>\n",
       "      <td>American Bridge</td>\n",
       "      <td>Bill Eichelberger</td>\n",
       "      <td>NaN</td>\n",
       "      <td>NaN</td>\n",
       "      <td>1000 American Bridge Way</td>\n",
       "      <td>Coraopolis</td>\n",
       "      <td>Pennsylvania</td>\n",
       "      <td>15108</td>\n",
       "    </tr>\n",
       "    <tr>\n",
       "      <th>3</th>\n",
       "      <td>Arup</td>\n",
       "      <td>Jena Prentice</td>\n",
       "      <td>Talent Acquisition Specialist</td>\n",
       "      <td>Human Resources</td>\n",
       "      <td>77 Water Street</td>\n",
       "      <td>New York</td>\n",
       "      <td>New York</td>\n",
       "      <td>10005</td>\n",
       "    </tr>\n",
       "    <tr>\n",
       "      <th>4</th>\n",
       "      <td>Ascension Industries, Inc.</td>\n",
       "      <td>Felicia Ware</td>\n",
       "      <td>Human Resource Specialist</td>\n",
       "      <td>NaN</td>\n",
       "      <td>1254 Erie Ave</td>\n",
       "      <td>North Tonawanda</td>\n",
       "      <td>New York</td>\n",
       "      <td>14120</td>\n",
       "    </tr>\n",
       "  </tbody>\n",
       "</table>\n",
       "</div>"
      ],
      "text/plain": [
       "  Event Registration: STEM Fair 2015 (Wednesday, October  7, 2015): Organization Name  \\\n",
       "0                            313 Recruiting Squadron                                    \n",
       "1           Air Force Research Laboratory - Rome Lab                                    \n",
       "2                                    American Bridge                                    \n",
       "3                                               Arup                                    \n",
       "4                         Ascension Industries, Inc.                                    \n",
       "\n",
       "  Event Registration: STEM Fair 2015 (Wednesday, October  7, 2015): Fullname  \\\n",
       "0                                     Sheila Pickard                           \n",
       "1                                     Steven D. Farr                           \n",
       "2                                  Bill Eichelberger                           \n",
       "3                                      Jena Prentice                           \n",
       "4                                       Felicia Ware                           \n",
       "\n",
       "  Event Registration: STEM Fair 2015 (Wednesday, October  7, 2015): Title  \\\n",
       "0                         Recruiting Support Manager                        \n",
       "1                                   Senior Scientist                        \n",
       "2                                                NaN                        \n",
       "3                      Talent Acquisition Specialist                        \n",
       "4                          Human Resource Specialist                        \n",
       "\n",
       "  Event Registration: STEM Fair 2015 (Wednesday, October  7, 2015): Division  \\\n",
       "0                                                NaN                           \n",
       "1                                           AFRL/RIS                           \n",
       "2                                                NaN                           \n",
       "3                                    Human Resources                           \n",
       "4                                                NaN                           \n",
       "\n",
       "  Event Registration: STEM Fair 2015 (Wednesday, October  7, 2015): Street Address  \\\n",
       "0     313 Recruiting Squadron\\n401 N Main St Suite 4                                 \n",
       "1                            AFRL/RIS\\n525 Brooks Rd                                 \n",
       "2                           1000 American Bridge Way                                 \n",
       "3                                    77 Water Street                                 \n",
       "4                                      1254 Erie Ave                                 \n",
       "\n",
       "  Event Registration: STEM Fair 2015 (Wednesday, October  7, 2015): City  \\\n",
       "0                                         N Syracuse                       \n",
       "1                                               Rome                       \n",
       "2                                         Coraopolis                       \n",
       "3                                           New York                       \n",
       "4                                    North Tonawanda                       \n",
       "\n",
       "  Event Registration: STEM Fair 2015 (Wednesday, October  7, 2015): State  \\\n",
       "0                                           New York                        \n",
       "1                                           New York                        \n",
       "2                                       Pennsylvania                        \n",
       "3                                           New York                        \n",
       "4                                           New York                        \n",
       "\n",
       "  Event Registration: STEM Fair 2015 (Wednesday, October  7, 2015): Zip  \n",
       "0                                              13212                     \n",
       "1                                              13441                     \n",
       "2                                              15108                     \n",
       "3                                              10005                     \n",
       "4                                              14120                     "
      ]
     },
     "execution_count": 42,
     "metadata": {},
     "output_type": "execute_result"
    }
   ],
   "source": [
    "df.head()"
   ]
  },
  {
   "cell_type": "code",
   "execution_count": 43,
   "metadata": {
    "collapsed": false
   },
   "outputs": [
    {
     "data": {
      "text/plain": [
       "(OrderedDict([('PrefixMarital', 'Mr'), ('GivenName', 'George'), ('Nickname', \"'Gob'\"), ('Surname', 'Bluth'), ('SuffixGenerational', 'II')]),\n",
       " 'Person')"
      ]
     },
     "execution_count": 43,
     "metadata": {},
     "output_type": "execute_result"
    }
   ],
   "source": [
    "### Look into dedupe \n",
    "\n",
    "probablepeople.tag(\"Mr George 'Gob' Bluth II\")"
   ]
  },
  {
   "cell_type": "code",
   "execution_count": 46,
   "metadata": {
    "collapsed": false
   },
   "outputs": [
    {
     "data": {
      "text/plain": [
       "(OrderedDict([('AddressNumber', u'123'), ('StreetName', u'Main'), ('StreetNamePostType', u'st.'), ('PlaceName', u'Buffalo'), ('StateName', u'NY')]),\n",
       " 'Street Address')"
      ]
     },
     "execution_count": 46,
     "metadata": {},
     "output_type": "execute_result"
    }
   ],
   "source": [
    "usaddress.tag(\"123 Main st. Buffalo NY\")"
   ]
  },
  {
   "cell_type": "code",
   "execution_count": null,
   "metadata": {
    "collapsed": true
   },
   "outputs": [],
   "source": []
  },
  {
   "cell_type": "code",
   "execution_count": null,
   "metadata": {
    "collapsed": true
   },
   "outputs": [],
   "source": []
  }
 ],
 "metadata": {
  "kernelspec": {
   "display_name": "Python 2",
   "language": "python",
   "name": "python2"
  },
  "language_info": {
   "codemirror_mode": {
    "name": "ipython",
    "version": 2
   },
   "file_extension": ".py",
   "mimetype": "text/x-python",
   "name": "python",
   "nbconvert_exporter": "python",
   "pygments_lexer": "ipython2",
   "version": "2.7.11"
  }
 },
 "nbformat": 4,
 "nbformat_minor": 0
}
