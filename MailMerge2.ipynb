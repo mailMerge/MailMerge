{
 "cells": [
  {
   "cell_type": "markdown",
   "metadata": {},
   "source": [
    "### I/O Test"
   ]
  },
  {
   "cell_type": "code",
   "execution_count": 3,
   "metadata": {
    "collapsed": false
   },
   "outputs": [
    {
     "name": "stderr",
     "output_type": "stream",
     "text": [
      "/Users/Matthew/anaconda/lib/python2.7/site-packages/dedupe/backport.py:17: UserWarning: NumPy linked against 'Accelerate.framework'. Multiprocessing will be disabled. http://mail.scipy.org/pipermail/numpy-discussion/2012-August/063589.html\n",
      "  warnings.warn(\"NumPy linked against 'Accelerate.framework'. \"\n"
     ]
    }
   ],
   "source": [
    "import glob\n",
    "import pandas as pd\n",
    "import numpy as np\n",
    "import os\n",
    "import usaddress\n",
    "import probablepeople\n",
    "import dedupe\n",
    "import xlrd"
   ]
  },
  {
   "cell_type": "markdown",
   "metadata": {},
   "source": [
    "### Current Directory"
   ]
  },
  {
   "cell_type": "code",
   "execution_count": 4,
   "metadata": {
    "collapsed": false
   },
   "outputs": [
    {
     "name": "stdout",
     "output_type": "stream",
     "text": [
      "/Users/Matthew/Documents/UB-COMPSCI/Spring_2016/MailMerge/DataFiles\n"
     ]
    }
   ],
   "source": [
    "currentDir = os.getcwd()\n",
    "print os.getcwd()"
   ]
  },
  {
   "cell_type": "code",
   "execution_count": 5,
   "metadata": {
    "collapsed": false
   },
   "outputs": [
    {
     "data": {
      "text/plain": [
       "['.DS_Store',\n",
       " '.ipynb_checkpoints',\n",
       " '2159StudentsAddFERPAisN.XLSX',\n",
       " 'AAU Deans.xlsx',\n",
       " 'Business and Deans combined list 10-09-2015.xlsx',\n",
       " 'Fall 2015 EE NYS Graduate Students.xlsx',\n",
       " 'Greater Buffalo Business partners and ECI.xlsx',\n",
       " 'Mail Merge Script Project-mailing list notes.docx',\n",
       " 'MailMerge2.ipynb',\n",
       " 'RenameCol.ipynb',\n",
       " 'SEAS Alumni for Mailing September 2015.xls',\n",
       " 'SEAS faculty and staff Local Address and Phone (1).xlsb',\n",
       " 'Start UP NY Companies.xlsx',\n",
       " 'STEM UP employers mailing list for SEAS.xls',\n",
       " 'SUNY and Govt Officials.xlsx',\n",
       " 'UB Mailing List.xlsx',\n",
       " 'USNEWS mailing addresses.xlsx']"
      ]
     },
     "execution_count": 5,
     "metadata": {},
     "output_type": "execute_result"
    }
   ],
   "source": [
    "os.listdir(currentDir)"
   ]
  },
  {
   "cell_type": "markdown",
   "metadata": {},
   "source": [
    "###Find files in folder (.xlsx, .xls, .csv) "
   ]
  },
  {
   "cell_type": "code",
   "execution_count": 10,
   "metadata": {
    "collapsed": false
   },
   "outputs": [
    {
     "data": {
      "text/plain": [
       "['2159StudentsAddFERPAisN.XLSX',\n",
       " 'AAU Deans.xlsx',\n",
       " 'Business and Deans combined list 10-09-2015.xlsx',\n",
       " 'Fall 2015 EE NYS Graduate Students.xlsx',\n",
       " 'Greater Buffalo Business partners and ECI.xlsx',\n",
       " 'SEAS Alumni for Mailing September 2015.xls',\n",
       " 'SEAS faculty and staff Local Address and Phone (1).xlsb',\n",
       " 'Start UP NY Companies.xlsx',\n",
       " 'STEM UP employers mailing list for SEAS.xls',\n",
       " 'SUNY and Govt Officials.xlsx',\n",
       " 'UB Mailing List.xlsx',\n",
       " 'USNEWS mailing addresses.xlsx']"
      ]
     },
     "execution_count": 10,
     "metadata": {},
     "output_type": "execute_result"
    }
   ],
   "source": [
    "fileList = []\n",
    "for file in os.listdir(currentDir):\n",
    "    if file.endswith(\".xls\") or file.endswith(\".xlsx\") or file.endswith(\".xlsm\") or file.endswith(\".xlsb\") or file.endswith(\".XLSX\"):\n",
    "        fileList.append(file)\n",
    "fileList"
   ]
  },
  {
   "cell_type": "markdown",
   "metadata": {},
   "source": [
    "### Or using glob "
   ]
  },
  {
   "cell_type": "code",
   "execution_count": 6,
   "metadata": {
    "collapsed": false
   },
   "outputs": [
    {
     "data": {
      "text/plain": [
       "['SEAS Alumni for Mailing September 2015.xls',\n",
       " 'STEM UP employers mailing list for SEAS.xls',\n",
       " 'AAU Deans.xlsx',\n",
       " 'Business and Deans combined list 10-09-2015.xlsx',\n",
       " 'Fall 2015 EE NYS Graduate Students.xlsx',\n",
       " 'Greater Buffalo Business partners and ECI.xlsx',\n",
       " 'Start UP NY Companies.xlsx',\n",
       " 'SUNY and Govt Officials.xlsx',\n",
       " 'UB Mailing List.xlsx',\n",
       " 'USNEWS mailing addresses.xlsx',\n",
       " 'SEAS faculty and staff Local Address and Phone (1).xlsb',\n",
       " '2159StudentsAddFERPAisN.XLSX']"
      ]
     },
     "execution_count": 6,
     "metadata": {},
     "output_type": "execute_result"
    }
   ],
   "source": [
    "fileTypes = ('*.xls', '*.xlsx','*.xlsm','*xlsb','*XLSX') # the tuple of file types\n",
    "fileList = []\n",
    "for files in fileTypes:\n",
    "    fileList.extend(glob.glob(files))\n",
    "    \n",
    "fileList "
   ]
  },
  {
   "cell_type": "markdown",
   "metadata": {},
   "source": [
    "Number of sheets in each excel file \n",
    "-----------------------------------"
   ]
  },
  {
   "cell_type": "code",
   "execution_count": 8,
   "metadata": {
    "collapsed": false
   },
   "outputs": [
    {
     "name": "stdout",
     "output_type": "stream",
     "text": [
      "\n",
      "file:  SEAS Alumni for Mailing September 2015.xls #Sheets:  4 \n",
      "Sheetname:  [u'Domestic', u'International', u'DAC DAB UBEAA', u'Delta -last 3 years'] \n",
      "\n",
      "\n",
      "file:  STEM UP employers mailing list for SEAS.xls #Sheets:  1 \n",
      "Sheetname:  [u'Report'] \n",
      "\n",
      "\n",
      "file:  AAU Deans.xlsx #Sheets:  1 \n",
      "Sheetname:  [u'AAU_Deans'] \n",
      "\n",
      "\n",
      "file:  Business and Deans combined list 10-09-2015.xlsx #Sheets:  1 \n",
      "Sheetname:  [u'AAU_Deans'] \n",
      "\n",
      "\n",
      "file:  Fall 2015 EE NYS Graduate Students.xlsx #Sheets:  1 \n",
      "Sheetname:  [u'Students by Term and Primary Pr'] \n",
      "\n",
      "\n",
      "file:  Greater Buffalo Business partners and ECI.xlsx #Sheets:  1 \n",
      "Sheetname:  [u'Greater Buffalo Business partne'] \n",
      "\n",
      "\n",
      "file:  Start UP NY Companies.xlsx #Sheets:  1 \n",
      "Sheetname:  [u'Start UP NY Companies'] \n",
      "\n",
      "\n",
      "file:  SUNY and Govt Officials.xlsx #Sheets:  1 \n",
      "Sheetname:  [u'SUNY and Govt Officials'] \n",
      "\n",
      "\n",
      "file:  UB Mailing List.xlsx #Sheets:  1 \n",
      "Sheetname:  [u'UB_Mailing_List'] \n",
      "\n",
      "\n",
      "file:  USNEWS mailing addresses.xlsx #Sheets:  1 \n",
      "Sheetname:  [u'USNEWS_mailing_addresses'] \n",
      "\n",
      "\n",
      "file:  SEAS faculty and staff Local Address and Phone (1).xlsb #Sheets:  Excel 2007 xlsb file; not supported\n",
      "\n",
      "file:  2159StudentsAddFERPAisN.XLSX #Sheets:  3 \n",
      "Sheetname:  [u'2159 Undergrad Ferpa N', u'2159 Grad Ferpa N', u'2151 All Degree Aw FERPA N'] \n",
      "\n"
     ]
    }
   ],
   "source": [
    "#XLRD and read excel can't handle .xlsb files We need to find a way to convert \n",
    "for files in fileList:\n",
    "    try:\n",
    "        print \"\\nfile: \", files, \"#Sheets: \", len(pd.ExcelFile(files).sheet_names), '\\nSheetname: ',pd.ExcelFile(files).sheet_names,'\\n'\n",
    "    except xlrd.XLRDError as detail: \n",
    "        print detail\n",
    "        #pass "
   ]
  },
  {
   "cell_type": "code",
   "execution_count": 14,
   "metadata": {
    "collapsed": false
   },
   "outputs": [
    {
     "name": "stdout",
     "output_type": "stream",
     "text": [
      "<class 'pandas.core.frame.DataFrame'>\n",
      "Int64Index: 3510 entries, 0 to 3509\n",
      "Data columns (total 14 columns):\n",
      "EMPLOYEEID      3510 non-null int64\n",
      "STUDENT         3510 non-null object\n",
      "EFFDT           3510 non-null datetime64[ns]\n",
      "EFF_STATUS      3510 non-null object\n",
      "COUNTRY         3510 non-null object\n",
      "ADDRESS1        3510 non-null object\n",
      "ADDRESS2        1572 non-null object\n",
      "ADDRESS3        10 non-null object\n",
      "ADDRESS4        1 non-null object\n",
      "CITY            3510 non-null object\n",
      "COUNTY          3377 non-null object\n",
      "STATE           3446 non-null object\n",
      "POSTAL          3504 non-null object\n",
      "COUNTRYDESCR    3510 non-null object\n",
      "dtypes: datetime64[ns](1), int64(1), object(12)\n",
      "memory usage: 411.3+ KB\n"
     ]
    }
   ],
   "source": [
    "df.info()"
   ]
  },
  {
   "cell_type": "markdown",
   "metadata": {},
   "source": [
    "### Import files first then normalize? \n",
    "import into pandas data frame "
   ]
  },
  {
   "cell_type": "code",
   "execution_count": 51,
   "metadata": {
    "collapsed": false
   },
   "outputs": [
    {
     "ename": "SyntaxError",
     "evalue": "can't assign to operator (<ipython-input-51-8bd4d0682db9>, line 5)",
     "output_type": "error",
     "traceback": [
      "\u001b[0;36m  File \u001b[0;32m\"<ipython-input-51-8bd4d0682db9>\"\u001b[0;36m, line \u001b[0;32m5\u001b[0m\n\u001b[0;31m    df+count = pd.read_excel(files)\u001b[0m\n\u001b[0;31mSyntaxError\u001b[0m\u001b[0;31m:\u001b[0m can't assign to operator\n"
     ]
    }
   ],
   "source": [
    "# \n",
    "count = 0 \n",
    "for files in fileList:\n",
    "    try:\n",
    "        df+count = pd.read_excel(files)\n",
    "        count += 1 \n",
    "    except xlrd.XLRDError as detail: \n",
    "        print detail\n",
    "df9.head()    "
   ]
  },
  {
   "cell_type": "code",
   "execution_count": 42,
   "metadata": {
    "collapsed": false
   },
   "outputs": [
    {
     "data": {
      "text/html": [
       "<div>\n",
       "<table border=\"1\" class=\"dataframe\">\n",
       "  <thead>\n",
       "    <tr style=\"text-align: right;\">\n",
       "      <th></th>\n",
       "      <th>Event Registration: STEM Fair 2015 (Wednesday, October  7, 2015): Organization Name</th>\n",
       "      <th>Event Registration: STEM Fair 2015 (Wednesday, October  7, 2015): Fullname</th>\n",
       "      <th>Event Registration: STEM Fair 2015 (Wednesday, October  7, 2015): Title</th>\n",
       "      <th>Event Registration: STEM Fair 2015 (Wednesday, October  7, 2015): Division</th>\n",
       "      <th>Event Registration: STEM Fair 2015 (Wednesday, October  7, 2015): Street Address</th>\n",
       "      <th>Event Registration: STEM Fair 2015 (Wednesday, October  7, 2015): City</th>\n",
       "      <th>Event Registration: STEM Fair 2015 (Wednesday, October  7, 2015): State</th>\n",
       "      <th>Event Registration: STEM Fair 2015 (Wednesday, October  7, 2015): Zip</th>\n",
       "    </tr>\n",
       "  </thead>\n",
       "  <tbody>\n",
       "    <tr>\n",
       "      <th>0</th>\n",
       "      <td>313 Recruiting Squadron</td>\n",
       "      <td>Sheila Pickard</td>\n",
       "      <td>Recruiting Support Manager</td>\n",
       "      <td>NaN</td>\n",
       "      <td>313 Recruiting Squadron\\n401 N Main St Suite 4</td>\n",
       "      <td>N Syracuse</td>\n",
       "      <td>New York</td>\n",
       "      <td>13212</td>\n",
       "    </tr>\n",
       "    <tr>\n",
       "      <th>1</th>\n",
       "      <td>Air Force Research Laboratory - Rome Lab</td>\n",
       "      <td>Steven D. Farr</td>\n",
       "      <td>Senior Scientist</td>\n",
       "      <td>AFRL/RIS</td>\n",
       "      <td>AFRL/RIS\\n525 Brooks Rd</td>\n",
       "      <td>Rome</td>\n",
       "      <td>New York</td>\n",
       "      <td>13441</td>\n",
       "    </tr>\n",
       "    <tr>\n",
       "      <th>2</th>\n",
       "      <td>American Bridge</td>\n",
       "      <td>Bill Eichelberger</td>\n",
       "      <td>NaN</td>\n",
       "      <td>NaN</td>\n",
       "      <td>1000 American Bridge Way</td>\n",
       "      <td>Coraopolis</td>\n",
       "      <td>Pennsylvania</td>\n",
       "      <td>15108</td>\n",
       "    </tr>\n",
       "    <tr>\n",
       "      <th>3</th>\n",
       "      <td>Arup</td>\n",
       "      <td>Jena Prentice</td>\n",
       "      <td>Talent Acquisition Specialist</td>\n",
       "      <td>Human Resources</td>\n",
       "      <td>77 Water Street</td>\n",
       "      <td>New York</td>\n",
       "      <td>New York</td>\n",
       "      <td>10005</td>\n",
       "    </tr>\n",
       "    <tr>\n",
       "      <th>4</th>\n",
       "      <td>Ascension Industries, Inc.</td>\n",
       "      <td>Felicia Ware</td>\n",
       "      <td>Human Resource Specialist</td>\n",
       "      <td>NaN</td>\n",
       "      <td>1254 Erie Ave</td>\n",
       "      <td>North Tonawanda</td>\n",
       "      <td>New York</td>\n",
       "      <td>14120</td>\n",
       "    </tr>\n",
       "  </tbody>\n",
       "</table>\n",
       "</div>"
      ],
      "text/plain": [
       "  Event Registration: STEM Fair 2015 (Wednesday, October  7, 2015): Organization Name  \\\n",
       "0                            313 Recruiting Squadron                                    \n",
       "1           Air Force Research Laboratory - Rome Lab                                    \n",
       "2                                    American Bridge                                    \n",
       "3                                               Arup                                    \n",
       "4                         Ascension Industries, Inc.                                    \n",
       "\n",
       "  Event Registration: STEM Fair 2015 (Wednesday, October  7, 2015): Fullname  \\\n",
       "0                                     Sheila Pickard                           \n",
       "1                                     Steven D. Farr                           \n",
       "2                                  Bill Eichelberger                           \n",
       "3                                      Jena Prentice                           \n",
       "4                                       Felicia Ware                           \n",
       "\n",
       "  Event Registration: STEM Fair 2015 (Wednesday, October  7, 2015): Title  \\\n",
       "0                         Recruiting Support Manager                        \n",
       "1                                   Senior Scientist                        \n",
       "2                                                NaN                        \n",
       "3                      Talent Acquisition Specialist                        \n",
       "4                          Human Resource Specialist                        \n",
       "\n",
       "  Event Registration: STEM Fair 2015 (Wednesday, October  7, 2015): Division  \\\n",
       "0                                                NaN                           \n",
       "1                                           AFRL/RIS                           \n",
       "2                                                NaN                           \n",
       "3                                    Human Resources                           \n",
       "4                                                NaN                           \n",
       "\n",
       "  Event Registration: STEM Fair 2015 (Wednesday, October  7, 2015): Street Address  \\\n",
       "0     313 Recruiting Squadron\\n401 N Main St Suite 4                                 \n",
       "1                            AFRL/RIS\\n525 Brooks Rd                                 \n",
       "2                           1000 American Bridge Way                                 \n",
       "3                                    77 Water Street                                 \n",
       "4                                      1254 Erie Ave                                 \n",
       "\n",
       "  Event Registration: STEM Fair 2015 (Wednesday, October  7, 2015): City  \\\n",
       "0                                         N Syracuse                       \n",
       "1                                               Rome                       \n",
       "2                                         Coraopolis                       \n",
       "3                                           New York                       \n",
       "4                                    North Tonawanda                       \n",
       "\n",
       "  Event Registration: STEM Fair 2015 (Wednesday, October  7, 2015): State  \\\n",
       "0                                           New York                        \n",
       "1                                           New York                        \n",
       "2                                       Pennsylvania                        \n",
       "3                                           New York                        \n",
       "4                                           New York                        \n",
       "\n",
       "  Event Registration: STEM Fair 2015 (Wednesday, October  7, 2015): Zip  \n",
       "0                                              13212                     \n",
       "1                                              13441                     \n",
       "2                                              15108                     \n",
       "3                                              10005                     \n",
       "4                                              14120                     "
      ]
     },
     "execution_count": 42,
     "metadata": {},
     "output_type": "execute_result"
    }
   ],
   "source": [
    "df.head()"
   ]
  },
  {
   "cell_type": "code",
   "execution_count": 43,
   "metadata": {
    "collapsed": false
   },
   "outputs": [
    {
     "data": {
      "text/plain": [
       "(OrderedDict([('PrefixMarital', 'Mr'), ('GivenName', 'George'), ('Nickname', \"'Gob'\"), ('Surname', 'Bluth'), ('SuffixGenerational', 'II')]),\n",
       " 'Person')"
      ]
     },
     "execution_count": 43,
     "metadata": {},
     "output_type": "execute_result"
    }
   ],
   "source": [
    "\n",
    "probablepeople.tag(\"Mr George 'Gob' Bluth II\")"
   ]
  },
  {
   "cell_type": "code",
   "execution_count": 46,
   "metadata": {
    "collapsed": false
   },
   "outputs": [
    {
     "data": {
      "text/plain": [
       "(OrderedDict([('AddressNumber', u'123'), ('StreetName', u'Main'), ('StreetNamePostType', u'st.'), ('PlaceName', u'Buffalo'), ('StateName', u'NY')]),\n",
       " 'Street Address')"
      ]
     },
     "execution_count": 46,
     "metadata": {},
     "output_type": "execute_result"
    }
   ],
   "source": [
    "usaddress.tag(\"123 Main st. Buffalo NY\")"
   ]
  },
  {
   "cell_type": "code",
   "execution_count": null,
   "metadata": {
    "collapsed": true
   },
   "outputs": [],
   "source": []
  },
  {
   "cell_type": "code",
   "execution_count": null,
   "metadata": {
    "collapsed": true
   },
   "outputs": [],
   "source": []
  }
 ],
 "metadata": {
  "kernelspec": {
   "display_name": "Python 2",
   "language": "python",
   "name": "python2"
  },
  "language_info": {
   "codemirror_mode": {
    "name": "ipython",
    "version": 2
   },
   "file_extension": ".py",
   "mimetype": "text/x-python",
   "name": "python",
   "nbconvert_exporter": "python",
   "pygments_lexer": "ipython2",
   "version": "2.7.11"
  }
 },
 "nbformat": 4,
 "nbformat_minor": 0
}
