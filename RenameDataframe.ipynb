{
 "cells": [
  {
   "cell_type": "markdown",
   "metadata": {},
   "source": [
    "### Rename Data Frame Columns\n"
   ]
  },
  {
   "cell_type": "code",
   "execution_count": 2,
   "metadata": {
    "collapsed": true
   },
   "outputs": [],
   "source": [
    "def guess_column_names(columnname):\n",
    "    ''' An attempt to standardize and rename column headers for manipulation later.\n",
    "        Input: column name (String)\n",
    "        Output: Corrected name (String)\n",
    "    '''\n",
    "    from fuzzywuzzy import fuzz\n",
    "    from fuzzywuzzy import process \n",
    "    \n",
    "    #list of possible \"correct\" column headers \n",
    "    correct_headers = ['First Name', 'Last Name','Fullname','Student Name','Job Title', 'Title','ID',\n",
    "                       'Institution','School','Company','Company Name1','Company Name2','Organization Name','Department','Division',\n",
    "                       'Email Address','Street Address','Street 1','Dorm Address 1','Dorm Address 2','Dorm Address 3',\n",
    "                       'Dorm Address 4','Address 1','Street 2','Address 2','Address','Street 3','Address 3','Street 4','Address 4',\n",
    "                       'Work Street 1','Work Street 2','Work Street 2','Work Street 3','Work Street 4',\n",
    "                       'Zipcode','Home Zipcode','Work_City','Dorm Postalplus4','HOME_FOREIGN_CITYZIP','WORK_FOREIGN_CITYZIP','Work_State','Work_Country',\n",
    "                       'Postal','City','County','State','Country']\n",
    "    \n",
    "    # if column is exact match return name\n",
    "    if columnname in correct_headers:  # might want to make this a dict for O(1) lookups\n",
    "        return columnname#, 100\n",
    "    \n",
    "    # if column name is longer than 20 characters, return best quess based on last 15 characters\n",
    "    if len(columnname) > 20:\n",
    "        new_name, score = process.extractOne(columnname[-15:], correct_headers) \n",
    "        return new_name#, score\n",
    "    \n",
    "    # for all others, \n",
    "    else:\n",
    "        new_name, score = process.extractOne(columnname, correct_headers)\n",
    "        \n",
    "    #if score > 80, return new_name \n",
    "    if score < 80:\n",
    "        # returns orginal name if match is bad\n",
    "        return columnname#, score\n",
    "    else:\n",
    "        return new_name#, score"
   ]
  },
  {
   "cell_type": "code",
   "execution_count": 3,
   "metadata": {
    "collapsed": true
   },
   "outputs": [],
   "source": [
    "def unique_columns(df_columns):\n",
    "    ''' Columns with same name get numbered to avoid duplication\n",
    "        Input: list of columns\n",
    "        Output: list of columns with appended numbers \n",
    "    '''\n",
    "    \n",
    "    seen = set()\n",
    "    for col in df_columns:\n",
    "        append = 1 \n",
    "        newitem = col\n",
    "\n",
    "        while newitem in seen:\n",
    "            append += 1\n",
    "            newitem = \"{} {}\".format(col, append)\n",
    "\n",
    "        yield newitem\n",
    "        seen.add(newitem)"
   ]
  },
  {
   "cell_type": "code",
   "execution_count": 28,
   "metadata": {
    "collapsed": false
   },
   "outputs": [],
   "source": [
    "def drop_columns(df):\n",
    "    ''' Columns of the dataframe are dropped if they are not in the list below '''\n",
    "    \n",
    "    # If names don't match this list drop them from dataframe\n",
    "    headers = ['First Name','Last Name','Fullname','Title',\n",
    "               'Company','Department',\n",
    "               'Address 1','Address 2',\n",
    "               'City','State','Zipcode','Country']\n",
    "    \n",
    "    cols = [col for col in df.columns if col not in headers]\n",
    "    #print cols\n",
    "    df.drop(cols, axis=1, inplace=True)\n",
    "    #print 'Drop: ',df.columns\n",
    "    return df"
   ]
  },
  {
   "cell_type": "code",
   "execution_count": 5,
   "metadata": {
    "collapsed": false
   },
   "outputs": [],
   "source": [
    "# reorder columns\n",
    "def reorder_columns(dataframe, seq):\n",
    "    '''Takes a dataframe and a sequence of columns names,\n",
    "       returns dataframe with seq as first columns. If seq contains columns \n",
    "       that aren't in the dataframe then the columns are created with Nan values. \n",
    "    '''\n",
    "    import numpy as np\n",
    "    cols = seq[:]\n",
    "    for x in dataframe.columns:\n",
    "        if x not in cols:\n",
    "             cols.append(x)\n",
    "            \n",
    "    for x in cols:\n",
    "        if x not in dataframe.columns: #If column from seq is not in df, \n",
    "            dataframe[x]= np.nan       #create a new column filled with Nan\n",
    "    \n",
    "    return dataframe[cols]"
   ]
  },
  {
   "cell_type": "code",
   "execution_count": 35,
   "metadata": {
    "collapsed": true
   },
   "outputs": [],
   "source": [
    "def renameCol(df):\n",
    "    \n",
    "    import pandas as pd\n",
    "    \n",
    "    # List of New \"corrected\" column names\n",
    "    new_col = [guess_column_names(col) for col in df.columns]\n",
    "    \n",
    "    #Set df columns equal to \"corrected\" columns \n",
    "    df.columns = new_col\n",
    "    #print 'Corrected: ',df.columns\n",
    "    \n",
    "    # Rename Columns \n",
    "    df.rename(columns={'School':'Department',\n",
    "                       'Institution':'Company',\n",
    "                       'Organization':'Company',\n",
    "                       'Organization Name':'Company',\n",
    "                       'Street Address':'Street 1',\n",
    "                       'Division':'Department',\n",
    "                       'Postal':'Zipcode',\n",
    "                       'Zip':'Zipcode',\n",
    "                       'Home Zipcode':'Zipcode',\n",
    "                       'Street 1':'Address 1',\n",
    "                       'Street 2':'Address 2',\n",
    "                       'Street 3':'Address 3',\n",
    "                       'PERSON_NAME':'Fullname',\n",
    "                       'Student Name':'Fullname'  #???\n",
    "                       \n",
    "                      }, inplace=True)\n",
    "        \n",
    "    #print 'Rename: ',df.columns\n",
    "    \n",
    "    #Call name split here\n",
    "    \n",
    "    \n",
    "    \n",
    "    # Create unique versions of Columns to avoid issues with pandas \n",
    "    df.columns = list(unique_columns(df.columns))\n",
    "    #print 'Unique: ',df.columns\n",
    "    \n",
    "    # Drop columns not needed \n",
    "    df = drop_columns(df)\n",
    "    #print 'Drop: ',df.columns\n",
    "    \n",
    "    # Reorder Columns in df \n",
    "    df = reorder_columns(df,['First Name','Last Name','Fullname','Title','Company','Department','Address 1','Address 2','City','State','Zipcode','Country'])\n",
    "    #print 'Reorder: ', df.columns\n",
    "    \n",
    "    return df"
   ]
  },
  {
   "cell_type": "code",
   "execution_count": 36,
   "metadata": {
    "collapsed": false
   },
   "outputs": [],
   "source": [
    "# Import data to dataframe for testing \n",
    "import pandas as pd\n",
    "df = pd.read_excel('data/2159StudentsAddFERPAisN.XLSX')\n",
    "df1 = pd.read_excel('data/Business and Deans combined list 10-09-2015.xlsx')"
   ]
  },
  {
   "cell_type": "code",
   "execution_count": 39,
   "metadata": {
    "collapsed": false,
    "scrolled": false
   },
   "outputs": [],
   "source": [
    "#\n",
    "df = renameCol(df)\n",
    "df1 = renameCol(df1)"
   ]
  },
  {
   "cell_type": "code",
   "execution_count": 45,
   "metadata": {
    "collapsed": false
   },
   "outputs": [],
   "source": [
    "# Concate each dataframe \n",
    "results = pd.concat([df,df1])"
   ]
  },
  {
   "cell_type": "code",
   "execution_count": null,
   "metadata": {
    "collapsed": true
   },
   "outputs": [],
   "source": []
  }
 ],
 "metadata": {
  "kernelspec": {
   "display_name": "Python 2",
   "language": "python",
   "name": "python2"
  },
  "language_info": {
   "codemirror_mode": {
    "name": "ipython",
    "version": 2
   },
   "file_extension": ".py",
   "mimetype": "text/x-python",
   "name": "python",
   "nbconvert_exporter": "python",
   "pygments_lexer": "ipython2",
   "version": "2.7.11"
  }
 },
 "nbformat": 4,
 "nbformat_minor": 0
}
