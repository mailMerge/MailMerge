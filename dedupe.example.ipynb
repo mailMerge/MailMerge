{
 "cells": [
  {
   "cell_type": "markdown",
   "metadata": {},
   "source": [
    "### Dedupe Example from datamade\n",
    "\n",
    "Steps\n",
    "1. pre-process data (strip unicode characters, whitspace,newlines,\",', make everython lowercase\n",
    "2. read in data from csv file and convert to python dictionary \n",
    "3. train model (active modeling by user) \n",
    "4. "
   ]
  },
  {
   "cell_type": "code",
   "execution_count": 7,
   "metadata": {
    "collapsed": false
   },
   "outputs": [],
   "source": [
    "from future.builtins import next\n",
    "\n",
    "import os\n",
    "import csv\n",
    "import re\n",
    "import collections\n",
    "import logging\n",
    "import optparse\n",
    "from numpy import nan\n",
    "import pandas as pd\n",
    "import dedupe\n",
    "from unidecode import unidecode"
   ]
  },
  {
   "cell_type": "code",
   "execution_count": 2,
   "metadata": {
    "collapsed": false
   },
   "outputs": [
    {
     "name": "stderr",
     "output_type": "stream",
     "text": [
      "Usage: __main__.py [options]\n",
      "\n",
      "__main__.py: error: no such option: -f\n"
     ]
    },
    {
     "ename": "SystemExit",
     "evalue": "2",
     "output_type": "error",
     "traceback": [
      "An exception has occurred, use %tb to see the full traceback.\n",
      "\u001b[0;31mSystemExit\u001b[0m\u001b[0;31m:\u001b[0m 2\n"
     ]
    },
    {
     "name": "stderr",
     "output_type": "stream",
     "text": [
      "To exit: use 'exit', 'quit', or Ctrl-D.\n"
     ]
    }
   ],
   "source": [
    "#\n",
    "optp = optparse.OptionParser()\n",
    "optp.add_option('-v', '--verbose', dest='verbose', action='count',\n",
    "                help='Increase verbosity (specify multiple times for more)'\n",
    "                )\n",
    "(opts, args) = optp.parse_args()\n",
    "log_level = logging.WARNING \n",
    "if opts.verbose :\n",
    "    if opts.verbose == 1:\n",
    "        log_level = logging.INFO\n",
    "    elif opts.verbose >= 2:\n",
    "        log_level = logging.DEBUG\n",
    "logging.getLogger().setLevel(log_level)\n",
    "#"
   ]
  },
  {
   "cell_type": "code",
   "execution_count": 3,
   "metadata": {
    "collapsed": true
   },
   "outputs": [],
   "source": [
    "input_file = 'csv_example_messy_input.csv'\n",
    "output_file = 'csv_example_output.csv'\n",
    "settings_file = 'csv_example_learned_settings'\n",
    "training_file = 'csv_example_training.json'"
   ]
  },
  {
   "cell_type": "code",
   "execution_count": 4,
   "metadata": {
    "collapsed": false
   },
   "outputs": [],
   "source": [
    "def preProcess(column):\n",
    "    #For each column in csv file strip unicode characters, whitespace, newlines, apostrophe, lowercase all text \n",
    "    import unidecode\n",
    "    column = column.decode(\"utf8\")\n",
    "    column = unidecode.unidecode(column)\n",
    "    column = re.sub('  +', ' ', column)\n",
    "    column = re.sub('\\n', ' ', column)\n",
    "    column = column.strip().strip('\"').strip(\"'\").lower().strip()\n",
    "    if not column :\n",
    "        column = None\n",
    "    return column"
   ]
  },
  {
   "cell_type": "code",
   "execution_count": 5,
   "metadata": {
    "collapsed": true
   },
   "outputs": [],
   "source": [
    "def readData(filename):\n",
    "# read in data from csv file, apply preprocess function, return a dictionary (row id: {cleaned data  site name:xx, adress: xxx})\n",
    "    data_d = {}\n",
    "    with open(filename) as f:\n",
    "        reader = csv.DictReader(f)\n",
    "        for row in reader:\n",
    "            clean_row = [(k, preProcess(v)) for (k, v) in row.items()]\n",
    "            row_id = int(row['Id'])\n",
    "            data_d[row_id] = dict(clean_row)\n",
    "\n",
    "    return data_d"
   ]
  },
  {
   "cell_type": "code",
   "execution_count": 8,
   "metadata": {
    "collapsed": false
   },
   "outputs": [
    {
     "data": {
      "text/html": [
       "<div>\n",
       "<table border=\"1\" class=\"dataframe\">\n",
       "  <thead>\n",
       "    <tr style=\"text-align: right;\">\n",
       "      <th></th>\n",
       "      <th>Id</th>\n",
       "      <th>Source</th>\n",
       "      <th>Site name</th>\n",
       "      <th>Address</th>\n",
       "      <th>Zip</th>\n",
       "      <th>Phone</th>\n",
       "      <th>Fax</th>\n",
       "      <th>Program Name</th>\n",
       "      <th>Length of Day</th>\n",
       "      <th>IDHS Provider ID</th>\n",
       "      <th>...</th>\n",
       "      <th>Executive Director</th>\n",
       "      <th>Center Director</th>\n",
       "      <th>ECE Available Programs</th>\n",
       "      <th>NAEYC Valid Until</th>\n",
       "      <th>NAEYC Program Id</th>\n",
       "      <th>Email Address</th>\n",
       "      <th>Ounce of Prevention Description</th>\n",
       "      <th>Purple binder service type</th>\n",
       "      <th>Column</th>\n",
       "      <th>Column2</th>\n",
       "    </tr>\n",
       "  </thead>\n",
       "  <tbody>\n",
       "    <tr>\n",
       "      <th>0</th>\n",
       "      <td>0</td>\n",
       "      <td>CPS_Early_Childhood_Portal_scrape.csv</td>\n",
       "      <td>Salvation Army - Temple / Salvation Army</td>\n",
       "      <td>1 N Ogden Ave</td>\n",
       "      <td>NaN</td>\n",
       "      <td>2262649</td>\n",
       "      <td>NaN</td>\n",
       "      <td>Child Care</td>\n",
       "      <td>EXTENDED DAY</td>\n",
       "      <td>NaN</td>\n",
       "      <td>...</td>\n",
       "      <td>NaN</td>\n",
       "      <td>NaN</td>\n",
       "      <td>NaN</td>\n",
       "      <td>NaN</td>\n",
       "      <td>NaN</td>\n",
       "      <td>NaN</td>\n",
       "      <td>NaN</td>\n",
       "      <td>NaN</td>\n",
       "      <td>NaN</td>\n",
       "      <td>NaN</td>\n",
       "    </tr>\n",
       "    <tr>\n",
       "      <th>1</th>\n",
       "      <td>1</td>\n",
       "      <td>CPS_Early_Childhood_Portal_scrape.csv</td>\n",
       "      <td>Salvation Army - Temple / Salvation Army</td>\n",
       "      <td>1 N Ogden Ave</td>\n",
       "      <td>NaN</td>\n",
       "      <td>2262649</td>\n",
       "      <td>NaN</td>\n",
       "      <td>Child Care</td>\n",
       "      <td>EXTENDED DAY</td>\n",
       "      <td>NaN</td>\n",
       "      <td>...</td>\n",
       "      <td>NaN</td>\n",
       "      <td>NaN</td>\n",
       "      <td>NaN</td>\n",
       "      <td>NaN</td>\n",
       "      <td>NaN</td>\n",
       "      <td>NaN</td>\n",
       "      <td>NaN</td>\n",
       "      <td>NaN</td>\n",
       "      <td>NaN</td>\n",
       "      <td>NaN</td>\n",
       "    </tr>\n",
       "    <tr>\n",
       "      <th>2</th>\n",
       "      <td>2</td>\n",
       "      <td>CPS_Early_Childhood_Portal_scrape.csv</td>\n",
       "      <td>National Louis University - Dr. Effie O. Elli...</td>\n",
       "      <td>10 S Kedzie Ave</td>\n",
       "      <td>NaN</td>\n",
       "      <td>5339011</td>\n",
       "      <td>NaN</td>\n",
       "      <td>Child Care</td>\n",
       "      <td>EXTENDED DAY</td>\n",
       "      <td>NaN</td>\n",
       "      <td>...</td>\n",
       "      <td>NaN</td>\n",
       "      <td>NaN</td>\n",
       "      <td>NaN</td>\n",
       "      <td>NaN</td>\n",
       "      <td>NaN</td>\n",
       "      <td>NaN</td>\n",
       "      <td>NaN</td>\n",
       "      <td>NaN</td>\n",
       "      <td>NaN</td>\n",
       "      <td>NaN</td>\n",
       "    </tr>\n",
       "    <tr>\n",
       "      <th>3</th>\n",
       "      <td>3</td>\n",
       "      <td>CPS_Early_Childhood_Portal_scrape.csv</td>\n",
       "      <td>National Louis University - Dr. Effie O. Elli...</td>\n",
       "      <td>10 S Kedzie Ave</td>\n",
       "      <td>NaN</td>\n",
       "      <td>5339011</td>\n",
       "      <td>NaN</td>\n",
       "      <td>Child Care</td>\n",
       "      <td>EXTENDED DAY</td>\n",
       "      <td>NaN</td>\n",
       "      <td>...</td>\n",
       "      <td>NaN</td>\n",
       "      <td>NaN</td>\n",
       "      <td>NaN</td>\n",
       "      <td>NaN</td>\n",
       "      <td>NaN</td>\n",
       "      <td>NaN</td>\n",
       "      <td>NaN</td>\n",
       "      <td>NaN</td>\n",
       "      <td>NaN</td>\n",
       "      <td>NaN</td>\n",
       "    </tr>\n",
       "    <tr>\n",
       "      <th>4</th>\n",
       "      <td>4</td>\n",
       "      <td>CPS_Early_Childhood_Portal_scrape.csv</td>\n",
       "      <td>Board Trustees-City Colleges of Chicago - Oli...</td>\n",
       "      <td>10001 S Woodlawn Ave</td>\n",
       "      <td>NaN</td>\n",
       "      <td>2916100</td>\n",
       "      <td>NaN</td>\n",
       "      <td>Child Care</td>\n",
       "      <td>EXTENDED DAY</td>\n",
       "      <td>NaN</td>\n",
       "      <td>...</td>\n",
       "      <td>NaN</td>\n",
       "      <td>NaN</td>\n",
       "      <td>NaN</td>\n",
       "      <td>NaN</td>\n",
       "      <td>NaN</td>\n",
       "      <td>NaN</td>\n",
       "      <td>NaN</td>\n",
       "      <td>NaN</td>\n",
       "      <td>NaN</td>\n",
       "      <td>NaN</td>\n",
       "    </tr>\n",
       "  </tbody>\n",
       "</table>\n",
       "<p>5 rows × 32 columns</p>\n",
       "</div>"
      ],
      "text/plain": [
       "   Id                                 Source  \\\n",
       "0   0  CPS_Early_Childhood_Portal_scrape.csv   \n",
       "1   1  CPS_Early_Childhood_Portal_scrape.csv   \n",
       "2   2  CPS_Early_Childhood_Portal_scrape.csv   \n",
       "3   3  CPS_Early_Childhood_Portal_scrape.csv   \n",
       "4   4  CPS_Early_Childhood_Portal_scrape.csv   \n",
       "\n",
       "                                           Site name                Address  \\\n",
       "0           Salvation Army - Temple / Salvation Army         1 N Ogden Ave    \n",
       "1           Salvation Army - Temple / Salvation Army         1 N Ogden Ave    \n",
       "2   National Louis University - Dr. Effie O. Elli...       10 S Kedzie Ave    \n",
       "3   National Louis University - Dr. Effie O. Elli...       10 S Kedzie Ave    \n",
       "4   Board Trustees-City Colleges of Chicago - Oli...  10001 S Woodlawn Ave    \n",
       "\n",
       "   Zip    Phone  Fax Program Name Length of Day IDHS Provider ID   ...    \\\n",
       "0  NaN  2262649  NaN   Child Care  EXTENDED DAY              NaN   ...     \n",
       "1  NaN  2262649  NaN   Child Care  EXTENDED DAY              NaN   ...     \n",
       "2  NaN  5339011  NaN   Child Care  EXTENDED DAY              NaN   ...     \n",
       "3  NaN  5339011  NaN   Child Care  EXTENDED DAY              NaN   ...     \n",
       "4  NaN  2916100  NaN   Child Care  EXTENDED DAY              NaN   ...     \n",
       "\n",
       "  Executive Director Center Director ECE Available Programs NAEYC Valid Until  \\\n",
       "0                NaN             NaN                    NaN               NaN   \n",
       "1                NaN             NaN                    NaN               NaN   \n",
       "2                NaN             NaN                    NaN               NaN   \n",
       "3                NaN             NaN                    NaN               NaN   \n",
       "4                NaN             NaN                    NaN               NaN   \n",
       "\n",
       "  NAEYC Program Id Email Address  Ounce of Prevention Description  \\\n",
       "0              NaN           NaN                              NaN   \n",
       "1              NaN           NaN                              NaN   \n",
       "2              NaN           NaN                              NaN   \n",
       "3              NaN           NaN                              NaN   \n",
       "4              NaN           NaN                              NaN   \n",
       "\n",
       "   Purple binder service type Column Column2  \n",
       "0                         NaN    NaN     NaN  \n",
       "1                         NaN    NaN     NaN  \n",
       "2                         NaN    NaN     NaN  \n",
       "3                         NaN    NaN     NaN  \n",
       "4                         NaN    NaN     NaN  \n",
       "\n",
       "[5 rows x 32 columns]"
      ]
     },
     "execution_count": 8,
     "metadata": {},
     "output_type": "execute_result"
    }
   ],
   "source": [
    "# example of messy input data\n",
    "data = pd.read_csv(input_file)\n",
    "data.head()"
   ]
  },
  {
   "cell_type": "code",
   "execution_count": 15,
   "metadata": {
    "collapsed": false
   },
   "outputs": [
    {
     "name": "stdout",
     "output_type": "stream",
     "text": [
      "{'Purple binder service type': None, 'Zip': None, 'Site name': 'hull house association - child dev. central office- hull house cds-homes', 'Program Name': 'child care', 'Agency': None, 'Source': 'cps_early_childhood_portal_scrape.csv', 'Eearly Head Start Fund': None, 'Length of Day': 'extended day', 'NAEYC Program Id': None, 'Website': None, 'Program Option': None, 'Fax': None, 'Head Start Fund': None, 'Ounce of Prevention Description': None, 'NAEYC Valid Until': None, 'Director': None, 'Phone': '9068600', 'Address': '1030 w van buren st', 'ECE Available Programs': None, 'CC fund': None, 'Email Address': None, 'Column': None, 'Center Director': None, 'Funded Enrollment': None, 'Column2': None, 'Number per Site EHS': None, 'Neighborhood': None, 'Progmod': None, 'IDHS Provider ID': None, 'Number per Site HS': None, 'Executive Director': None, 'Id': '10'}\n"
     ]
    }
   ],
   "source": [
    "#example of dictionary \n",
    "print data_d[10]"
   ]
  },
  {
   "cell_type": "code",
   "execution_count": 11,
   "metadata": {
    "collapsed": false
   },
   "outputs": [
    {
     "name": "stdout",
     "output_type": "stream",
     "text": [
      "importing data ...\n",
      "starting active labeling..."
     ]
    },
    {
     "name": "stderr",
     "output_type": "stream",
     "text": [
      "Phone : None\n",
      "Address : 2629 s lawndale\n",
      "Zip : 60623\n",
      "Site name : chicago commons association a-z mall world\n",
      "\n",
      "Phone : 77352211561150\n",
      "Address : 2629 s lawndale\n",
      "Zip : 60623\n",
      "Site name : chicago commons association a-z mall world\n",
      "\n",
      "Do these records refer to the same thing?\n",
      "(y)es / (n)o / (u)nsure / (f)inished\n"
     ]
    },
    {
     "name": "stdout",
     "output_type": "stream",
     "text": [
      "\n",
      "y\n"
     ]
    },
    {
     "name": "stderr",
     "output_type": "stream",
     "text": [
      "Phone : 3813652\n",
      "Address : 7638 n paulina ave\n",
      "Zip : None\n",
      "Site name : howard area community center - howard area\n",
      "\n",
      "Phone : 9787827\n",
      "Address : 3012-16 e. 92nd st.\n",
      "Zip : None\n",
      "Site name : shinning star child development institute\n",
      "\n",
      "Do these records refer to the same thing?\n",
      "(y)es / (n)o / (u)nsure / (f)inished\n"
     ]
    },
    {
     "name": "stdout",
     "output_type": "stream",
     "text": [
      "n\n"
     ]
    },
    {
     "name": "stderr",
     "output_type": "stream",
     "text": [
      "Phone : 5341090\n",
      "Address : 8601 w. foster\n",
      "Zip : None\n",
      "Site name : dirksen\n",
      "\n",
      "Phone : 5341880\n",
      "Address : 2620 s lawndale ave\n",
      "Zip : 60623\n",
      "Site name : chicago public schools little village\n",
      "\n",
      "Do these records refer to the same thing?\n",
      "(y)es / (n)o / (u)nsure / (f)inished\n"
     ]
    },
    {
     "name": "stdout",
     "output_type": "stream",
     "text": [
      "n\n"
     ]
    },
    {
     "name": "stderr",
     "output_type": "stream",
     "text": [
      "/Users/Matthew/anaconda/lib/python2.7/site-packages/rlr/crossvalidation.py:122: RuntimeWarning: invalid value encountered in true_divide\n",
      "  * (true_distinct + false_distinct)))\n",
      "Phone : 2647632\n",
      "Address : 7 e 119th st\n",
      "Zip : None\n",
      "Site name : abraham lincoln centre - lincoln - roseland\n",
      "\n",
      "Phone : None\n",
      "Address : 707 e 37th st\n",
      "Zip : None\n",
      "Site name : abraham lincoln centre - donoghue\n",
      "\n",
      "Do these records refer to the same thing?\n",
      "(y)es / (n)o / (u)nsure / (f)inished\n"
     ]
    },
    {
     "name": "stdout",
     "output_type": "stream",
     "text": [
      "n\n"
     ]
    },
    {
     "name": "stderr",
     "output_type": "stream",
     "text": [
      "Phone : 5341720\n",
      "Address : 2745 w roosevelt\n",
      "Zip : 60608\n",
      "Site name : chicago public schools chalmers, thomas\n",
      "\n",
      "Phone : 5341720\n",
      "Address : 2745 w. roosevelt rd.\n",
      "Zip : 60608\n",
      "Site name : chalmers\n",
      "\n",
      "Do these records refer to the same thing?\n",
      "(y)es / (n)o / (u)nsure / (f)inished\n"
     ]
    },
    {
     "name": "stdout",
     "output_type": "stream",
     "text": [
      "y\n"
     ]
    },
    {
     "name": "stderr",
     "output_type": "stream",
     "text": [
      "Phone : None\n",
      "Address : 1711 w garfield blvd\n",
      "Zip : None\n",
      "Site name : childserv - pilsen\n",
      "\n",
      "Phone : 6275000\n",
      "Address : 1400 w garfield blvd\n",
      "Zip : 60609\n",
      "Site name : chicago commons association computer preschool academy\n",
      "\n",
      "Do these records refer to the same thing?\n",
      "(y)es / (n)o / (u)nsure / (f)inished\n"
     ]
    },
    {
     "name": "stdout",
     "output_type": "stream",
     "text": [
      "n\n"
     ]
    },
    {
     "name": "stderr",
     "output_type": "stream",
     "text": [
      "Phone : 4369244\n",
      "Address : 3460 w 79th st\n",
      "Zip : 60652\n",
      "Site name : chicago youth centers pathways to learning cc1\n",
      "\n",
      "Phone : 4833555\n",
      "Address : 1248 w 69th street\n",
      "Zip : 60636\n",
      "Site name : chicago urban day school\n",
      "\n",
      "Do these records refer to the same thing?\n",
      "(y)es / (n)o / (u)nsure / (f)inished\n"
     ]
    },
    {
     "name": "stdout",
     "output_type": "stream",
     "text": [
      "n\n"
     ]
    },
    {
     "name": "stderr",
     "output_type": "stream",
     "text": [
      "Phone : 2371444\n",
      "Address : 5242 w. north ave\n",
      "Zip : 60639\n",
      "Site name : chicago youth centers rachel's 2\n",
      "\n",
      "Phone : 2371444\n",
      "Address : 5242 w north ave\n",
      "Zip : 60639\n",
      "Site name : easter seals society of metropolitan chicago rachel's learning center #2\n",
      "\n",
      "Do these records refer to the same thing?\n",
      "(y)es / (n)o / (u)nsure / (f)inished\n"
     ]
    },
    {
     "name": "stdout",
     "output_type": "stream",
     "text": [
      "y\n"
     ]
    },
    {
     "name": "stderr",
     "output_type": "stream",
     "text": [
      "Phone : 2476642\n",
      "Address : 4444 s kedzie ave\n",
      "Zip : None\n",
      "Site name : el valor - kiddy kare learning ctr\n",
      "\n",
      "Phone : 2476642\n",
      "Address : 4444 s. kedzie\n",
      "Zip : 60632\n",
      "Site name : el valor kiddy kare learning center\n",
      "\n",
      "Do these records refer to the same thing?\n",
      "(y)es / (n)o / (u)nsure / (f)inished\n"
     ]
    },
    {
     "name": "stdout",
     "output_type": "stream",
     "text": [
      "y\n"
     ]
    },
    {
     "name": "stderr",
     "output_type": "stream",
     "text": [
      "Phone : 5347675\n",
      "Address : 1420 w. 17th st.\n",
      "Zip : None\n",
      "Site name : pilsen\n",
      "\n",
      "Phone : 5347205\n",
      "Address : 1624 w. 19th street\n",
      "Zip : 60608\n",
      "Site name : chicago public schools cooper dual language academy, peter\n",
      "\n",
      "Do these records refer to the same thing?\n",
      "(y)es / (n)o / (u)nsure / (f)inished\n"
     ]
    },
    {
     "name": "stdout",
     "output_type": "stream",
     "text": [
      "n\n"
     ]
    },
    {
     "name": "stderr",
     "output_type": "stream",
     "text": [
      "Phone : 6260323\n",
      "Address : 5900 w iowa st\n",
      "Zip : None\n",
      "Site name : trinity resources unlimited, inc. - hope for youth\n",
      "\n",
      "Phone : 6260322\n",
      "Address : 5900 w. iowa\n",
      "Zip : 60651\n",
      "Site name : trinity resources unlimited inc hope for youth\n",
      "\n",
      "Do these records refer to the same thing?\n",
      "(y)es / (n)o / (u)nsure / (f)inished\n"
     ]
    },
    {
     "name": "stdout",
     "output_type": "stream",
     "text": [
      "y\n"
     ]
    },
    {
     "name": "stderr",
     "output_type": "stream",
     "text": [
      "Phone : None\n",
      "Address : 2649 w 51st st\n",
      "Zip : None\n",
      "Site name : el valor - teddy bear 1 51st street\n",
      "\n",
      "Phone : 4760700\n",
      "Address : 2649 w. 51st st\n",
      "Zip : 60632\n",
      "Site name : teddy bear 1\n",
      "\n",
      "Do these records refer to the same thing?\n",
      "(y)es / (n)o / (u)nsure / (f)inished\n"
     ]
    },
    {
     "name": "stdout",
     "output_type": "stream",
     "text": [
      "y\n"
     ]
    },
    {
     "name": "stderr",
     "output_type": "stream",
     "text": [
      "Phone : 4836251\n",
      "Address : 8128 s. dr martin luther king jr drive\n",
      "Zip : None\n",
      "Site name : tiny tot villa\n",
      "\n",
      "Phone : 4836251\n",
      "Address : 8128 s king dr\n",
      "Zip : 60641\n",
      "Site name : chicago state university tiny tots villa\n",
      "\n",
      "Do these records refer to the same thing?\n",
      "(y)es / (n)o / (u)nsure / (f)inished\n"
     ]
    },
    {
     "name": "stdout",
     "output_type": "stream",
     "text": [
      "y\n"
     ]
    },
    {
     "name": "stderr",
     "output_type": "stream",
     "text": [
      "Phone : None\n",
      "Address : 2718 w 59th st\n",
      "Zip : None\n",
      "Site name : easter seals society of metropolitan chicago - the keeper's inst.\n",
      "\n",
      "Phone : 9181944\n",
      "Address : 3038 w 59th street\n",
      "Zip : 60629\n",
      "Site name : el valor young scholars dev. ins.\n",
      "\n",
      "Do these records refer to the same thing?\n",
      "(y)es / (n)o / (u)nsure / (f)inished\n"
     ]
    },
    {
     "name": "stdout",
     "output_type": "stream",
     "text": [
      "n\n"
     ]
    },
    {
     "name": "stderr",
     "output_type": "stream",
     "text": [
      "Phone : 3757022\n",
      "Address : 10530 s oglesby\n",
      "Zip : None\n",
      "Site name : ada s. mckinley community services - mckinley - trumbull park\n",
      "\n",
      "Phone : 9785341\n",
      "Address : 10530 s oglesby\n",
      "Zip : 60617\n",
      "Site name : ada s. mckinley community services mckinley-trumbull park\n",
      "\n",
      "Do these records refer to the same thing?\n",
      "(y)es / (n)o / (u)nsure / (f)inished\n"
     ]
    },
    {
     "name": "stdout",
     "output_type": "stream",
     "text": [
      "f\n"
     ]
    },
    {
     "name": "stderr",
     "output_type": "stream",
     "text": [
      "Finished labeling\n"
     ]
    }
   ],
   "source": [
    "print('importing data ...')\n",
    "data_d = readData(input_file)\n",
    "\n",
    "## Training\n",
    "\n",
    "if os.path.exists(settings_file):\n",
    "    print('reading from', settings_file)\n",
    "    with open(settings_file, 'rb') as f:\n",
    "        deduper = dedupe.StaticDedupe(f)\n",
    "\n",
    "else:\n",
    "    # Define the fields dedupe will pay attention to\n",
    "    #\n",
    "    # Notice how we are telling dedupe to use a custom field comparator\n",
    "    # for the 'Zip' field. \n",
    "    fields = [\n",
    "        {'field' : 'Site name', 'type': 'String'},\n",
    "        {'field' : 'Address', 'type': 'String'},\n",
    "        {'field' : 'Zip', 'type': 'Exact', 'has missing' : True},\n",
    "        {'field' : 'Phone', 'type': 'String', 'has missing' : True},\n",
    "        ]\n",
    "\n",
    "    # Create a new deduper object and pass our data model to it.\n",
    "    deduper = dedupe.Dedupe(fields)\n",
    "\n",
    "    # To train dedupe, we feed it a sample of records.\n",
    "    deduper.sample(data_d, 15000)\n",
    "\n",
    "\n",
    "    # If we have training data saved from a previous run of dedupe,\n",
    "    # look for it an load it in.\n",
    "    # __Note:__ if you want to train from scratch, delete the training_file\n",
    "    if os.path.exists(training_file):\n",
    "        print('reading labeled examples from ', training_file)\n",
    "        with open(training_file, 'rb') as f:\n",
    "            deduper.readTraining(f)\n",
    "\n",
    "    # ## Active learning\n",
    "    # Dedupe will find the next pair of records\n",
    "    # it is least certain about and ask you to label them as duplicates\n",
    "    # or not.\n",
    "    # use 'y', 'n' and 'u' keys to flag duplicates\n",
    "    # press 'f' when you are finished\n",
    "    print('starting active labeling...')\n",
    "\n",
    "    dedupe.consoleLabel(deduper)\n",
    "\n",
    "    deduper.train()\n",
    "\n",
    "    # When finished, save our training away to disk\n",
    "    with open(training_file, 'w') as tf :\n",
    "        deduper.writeTraining(tf)\n",
    "\n",
    "    # Save our weights and predicates to disk.  If the settings file\n",
    "    # exists, we will skip all the training and learning next time we run\n",
    "    # this file.\n",
    "    with open(settings_file, 'wb') as sf :\n",
    "        deduper.writeSettings(sf)\n"
   ]
  },
  {
   "cell_type": "code",
   "execution_count": 12,
   "metadata": {
    "collapsed": false
   },
   "outputs": [
    {
     "name": "stdout",
     "output_type": "stream",
     "text": [
      "blocking...\n",
      "clustering...\n",
      "('# duplicate sets', 809)\n"
     ]
    }
   ],
   "source": [
    "# ## Blocking\n",
    "\n",
    "print('blocking...')\n",
    "\n",
    "# ## Clustering\n",
    "\n",
    "# Find the threshold that will maximize a weighted average of our precision and recall. \n",
    "# When we set the recall weight to 2, we are saying we care twice as much\n",
    "# about recall as we do precision.\n",
    "#\n",
    "# If we had more data, we would not pass in all the blocked data into\n",
    "# this function but a representative sample.\n",
    "\n",
    "threshold = deduper.threshold(data_d, recall_weight=1)\n",
    "\n",
    "# `match` will return sets of record IDs that dedupe\n",
    "# believes are all referring to the same entity.\n",
    "\n",
    "print('clustering...')\n",
    "clustered_dupes = deduper.match(data_d, threshold)\n",
    "\n",
    "print('# duplicate sets', len(clustered_dupes))\n",
    "\n",
    "# ## Writing Results\n",
    "\n",
    "# Write our original data back out to a CSV with a new column called \n",
    "# 'Cluster ID' which indicates which records refer to each other.\n",
    "\n",
    "cluster_membership = {}\n",
    "cluster_id = 0\n",
    "for (cluster_id, cluster) in enumerate(clustered_dupes):\n",
    "    id_set, scores = cluster\n",
    "    cluster_d = [data_d[c] for c in id_set]\n",
    "    canonical_rep = dedupe.canonicalize(cluster_d)\n",
    "    for record_id, score in zip(id_set, scores) :\n",
    "        cluster_membership[record_id] = {\n",
    "            \"cluster id\" : cluster_id,\n",
    "            \"canonical representation\" : canonical_rep,\n",
    "            \"confidence\": score\n",
    "        }\n",
    "\n",
    "singleton_id = cluster_id + 1\n",
    "\n",
    "with open(output_file, 'w') as f_output:\n",
    "    writer = csv.writer(f_output)\n",
    "\n",
    "    with open(input_file) as f_input :\n",
    "        reader = csv.reader(f_input)\n",
    "\n",
    "        heading_row = next(reader)\n",
    "        heading_row.insert(0, 'confidence_score')\n",
    "        heading_row.insert(0, 'Cluster ID')\n",
    "        canonical_keys = canonical_rep.keys()\n",
    "        for key in canonical_keys:\n",
    "            heading_row.append('canonical_' + key)\n",
    "        \n",
    "        writer.writerow(heading_row)\n",
    "\n",
    "        for row in reader:\n",
    "            row_id = int(row[0])\n",
    "            if row_id in cluster_membership :\n",
    "                cluster_id = cluster_membership[row_id][\"cluster id\"]\n",
    "                canonical_rep = cluster_membership[row_id][\"canonical representation\"]\n",
    "                row.insert(0, cluster_membership[row_id]['confidence'])\n",
    "                row.insert(0, cluster_id)\n",
    "                for key in canonical_keys:\n",
    "                    row.append(canonical_rep[key].encode('utf8'))\n",
    "            else:\n",
    "                row.insert(0, None)\n",
    "                row.insert(0, singleton_id)\n",
    "                singleton_id += 1\n",
    "                for key in canonical_keys:\n",
    "                    row.append(None)\n",
    "            writer.writerow(row)"
   ]
  },
  {
   "cell_type": "markdown",
   "metadata": {},
   "source": [
    "###Sample output file \n",
    "\n",
    "Clusters: blocks of potential duplicate records \n",
    "Confidence_score: probability that the records in cluster match"
   ]
  },
  {
   "cell_type": "code",
   "execution_count": 9,
   "metadata": {
    "collapsed": false
   },
   "outputs": [
    {
     "data": {
      "text/html": [
       "<div>\n",
       "<table border=\"1\" class=\"dataframe\">\n",
       "  <thead>\n",
       "    <tr style=\"text-align: right;\">\n",
       "      <th></th>\n",
       "      <th>Cluster ID</th>\n",
       "      <th>confidence_score</th>\n",
       "      <th>Id</th>\n",
       "      <th>Source</th>\n",
       "      <th>Site name</th>\n",
       "      <th>Address</th>\n",
       "      <th>Zip</th>\n",
       "      <th>Phone</th>\n",
       "      <th>Fax</th>\n",
       "      <th>Program Name</th>\n",
       "      <th>...</th>\n",
       "      <th>canonical_Center Director</th>\n",
       "      <th>canonical_Funded Enrollment</th>\n",
       "      <th>canonical_Column2</th>\n",
       "      <th>canonical_Number per Site EHS</th>\n",
       "      <th>canonical_Neighborhood</th>\n",
       "      <th>canonical_Progmod</th>\n",
       "      <th>canonical_IDHS Provider ID</th>\n",
       "      <th>canonical_Number per Site HS</th>\n",
       "      <th>canonical_Executive Director</th>\n",
       "      <th>canonical_Id</th>\n",
       "    </tr>\n",
       "  </thead>\n",
       "  <tbody>\n",
       "    <tr>\n",
       "      <th>0</th>\n",
       "      <td>0</td>\n",
       "      <td>0.880895</td>\n",
       "      <td>0</td>\n",
       "      <td>CPS_Early_Childhood_Portal_scrape.csv</td>\n",
       "      <td>Salvation Army - Temple / Salvation Army</td>\n",
       "      <td>1 N Ogden Ave</td>\n",
       "      <td>NaN</td>\n",
       "      <td>2262649</td>\n",
       "      <td>NaN</td>\n",
       "      <td>Child Care</td>\n",
       "      <td>...</td>\n",
       "      <td>NaN</td>\n",
       "      <td>salvation army</td>\n",
       "      <td>child care</td>\n",
       "      <td>NaN</td>\n",
       "      <td>near west side</td>\n",
       "      <td>no</td>\n",
       "      <td>NaN</td>\n",
       "      <td>NaN</td>\n",
       "      <td>NaN</td>\n",
       "      <td>1</td>\n",
       "    </tr>\n",
       "    <tr>\n",
       "      <th>1</th>\n",
       "      <td>0</td>\n",
       "      <td>0.880895</td>\n",
       "      <td>1</td>\n",
       "      <td>CPS_Early_Childhood_Portal_scrape.csv</td>\n",
       "      <td>Salvation Army - Temple / Salvation Army</td>\n",
       "      <td>1 N Ogden Ave</td>\n",
       "      <td>NaN</td>\n",
       "      <td>2262649</td>\n",
       "      <td>NaN</td>\n",
       "      <td>Child Care</td>\n",
       "      <td>...</td>\n",
       "      <td>NaN</td>\n",
       "      <td>salvation army</td>\n",
       "      <td>child care</td>\n",
       "      <td>NaN</td>\n",
       "      <td>near west side</td>\n",
       "      <td>no</td>\n",
       "      <td>NaN</td>\n",
       "      <td>NaN</td>\n",
       "      <td>NaN</td>\n",
       "      <td>1</td>\n",
       "    </tr>\n",
       "    <tr>\n",
       "      <th>2</th>\n",
       "      <td>1</td>\n",
       "      <td>0.739643</td>\n",
       "      <td>2</td>\n",
       "      <td>CPS_Early_Childhood_Portal_scrape.csv</td>\n",
       "      <td>National Louis University - Dr. Effie O. Elli...</td>\n",
       "      <td>10 S Kedzie Ave</td>\n",
       "      <td>NaN</td>\n",
       "      <td>5339011</td>\n",
       "      <td>NaN</td>\n",
       "      <td>Child Care</td>\n",
       "      <td>...</td>\n",
       "      <td>www.ymcachicago.org</td>\n",
       "      <td>ymca of metropolitan chicago</td>\n",
       "      <td>NaN</td>\n",
       "      <td>NaN</td>\n",
       "      <td>east garfield park</td>\n",
       "      <td>no</td>\n",
       "      <td>NaN</td>\n",
       "      <td>NaN</td>\n",
       "      <td>4364ps(hs collaboration with childcare &amp; prek)</td>\n",
       "      <td>2</td>\n",
       "    </tr>\n",
       "    <tr>\n",
       "      <th>3</th>\n",
       "      <td>1</td>\n",
       "      <td>0.739643</td>\n",
       "      <td>3</td>\n",
       "      <td>CPS_Early_Childhood_Portal_scrape.csv</td>\n",
       "      <td>National Louis University - Dr. Effie O. Elli...</td>\n",
       "      <td>10 S Kedzie Ave</td>\n",
       "      <td>NaN</td>\n",
       "      <td>5339011</td>\n",
       "      <td>NaN</td>\n",
       "      <td>Child Care</td>\n",
       "      <td>...</td>\n",
       "      <td>www.ymcachicago.org</td>\n",
       "      <td>ymca of metropolitan chicago</td>\n",
       "      <td>NaN</td>\n",
       "      <td>NaN</td>\n",
       "      <td>east garfield park</td>\n",
       "      <td>no</td>\n",
       "      <td>NaN</td>\n",
       "      <td>NaN</td>\n",
       "      <td>4364ps(hs collaboration with childcare &amp; prek)</td>\n",
       "      <td>2</td>\n",
       "    </tr>\n",
       "    <tr>\n",
       "      <th>4</th>\n",
       "      <td>2</td>\n",
       "      <td>0.944684</td>\n",
       "      <td>4</td>\n",
       "      <td>CPS_Early_Childhood_Portal_scrape.csv</td>\n",
       "      <td>Board Trustees-City Colleges of Chicago - Oli...</td>\n",
       "      <td>10001 S Woodlawn Ave</td>\n",
       "      <td>NaN</td>\n",
       "      <td>2916100</td>\n",
       "      <td>NaN</td>\n",
       "      <td>Child Care</td>\n",
       "      <td>...</td>\n",
       "      <td>NaN</td>\n",
       "      <td>NaN</td>\n",
       "      <td>NaN</td>\n",
       "      <td>NaN</td>\n",
       "      <td>NaN</td>\n",
       "      <td>NaN</td>\n",
       "      <td>NaN</td>\n",
       "      <td>NaN</td>\n",
       "      <td>NaN</td>\n",
       "      <td>513</td>\n",
       "    </tr>\n",
       "  </tbody>\n",
       "</table>\n",
       "<p>5 rows × 66 columns</p>\n",
       "</div>"
      ],
      "text/plain": [
       "   Cluster ID  confidence_score  Id                                 Source  \\\n",
       "0           0          0.880895   0  CPS_Early_Childhood_Portal_scrape.csv   \n",
       "1           0          0.880895   1  CPS_Early_Childhood_Portal_scrape.csv   \n",
       "2           1          0.739643   2  CPS_Early_Childhood_Portal_scrape.csv   \n",
       "3           1          0.739643   3  CPS_Early_Childhood_Portal_scrape.csv   \n",
       "4           2          0.944684   4  CPS_Early_Childhood_Portal_scrape.csv   \n",
       "\n",
       "                                           Site name                Address  \\\n",
       "0           Salvation Army - Temple / Salvation Army         1 N Ogden Ave    \n",
       "1           Salvation Army - Temple / Salvation Army         1 N Ogden Ave    \n",
       "2   National Louis University - Dr. Effie O. Elli...       10 S Kedzie Ave    \n",
       "3   National Louis University - Dr. Effie O. Elli...       10 S Kedzie Ave    \n",
       "4   Board Trustees-City Colleges of Chicago - Oli...  10001 S Woodlawn Ave    \n",
       "\n",
       "   Zip    Phone  Fax Program Name      ...      canonical_Center Director  \\\n",
       "0  NaN  2262649  NaN   Child Care      ...                            NaN   \n",
       "1  NaN  2262649  NaN   Child Care      ...                            NaN   \n",
       "2  NaN  5339011  NaN   Child Care      ...            www.ymcachicago.org   \n",
       "3  NaN  5339011  NaN   Child Care      ...            www.ymcachicago.org   \n",
       "4  NaN  2916100  NaN   Child Care      ...                            NaN   \n",
       "\n",
       "    canonical_Funded Enrollment canonical_Column2  \\\n",
       "0                salvation army        child care   \n",
       "1                salvation army        child care   \n",
       "2  ymca of metropolitan chicago               NaN   \n",
       "3  ymca of metropolitan chicago               NaN   \n",
       "4                           NaN               NaN   \n",
       "\n",
       "  canonical_Number per Site EHS canonical_Neighborhood canonical_Progmod  \\\n",
       "0                           NaN         near west side                no   \n",
       "1                           NaN         near west side                no   \n",
       "2                           NaN     east garfield park                no   \n",
       "3                           NaN     east garfield park                no   \n",
       "4                           NaN                    NaN               NaN   \n",
       "\n",
       "  canonical_IDHS Provider ID canonical_Number per Site HS  \\\n",
       "0                        NaN                          NaN   \n",
       "1                        NaN                          NaN   \n",
       "2                        NaN                          NaN   \n",
       "3                        NaN                          NaN   \n",
       "4                        NaN                          NaN   \n",
       "\n",
       "                     canonical_Executive Director  canonical_Id  \n",
       "0                                             NaN             1  \n",
       "1                                             NaN             1  \n",
       "2  4364ps(hs collaboration with childcare & prek)             2  \n",
       "3  4364ps(hs collaboration with childcare & prek)             2  \n",
       "4                                             NaN           513  \n",
       "\n",
       "[5 rows x 66 columns]"
      ]
     },
     "execution_count": 9,
     "metadata": {},
     "output_type": "execute_result"
    }
   ],
   "source": [
    "output = pd.read_csv(output_file)\n",
    "output.head()"
   ]
  },
  {
   "cell_type": "code",
   "execution_count": null,
   "metadata": {
    "collapsed": true
   },
   "outputs": [],
   "source": []
  },
  {
   "cell_type": "code",
   "execution_count": null,
   "metadata": {
    "collapsed": true
   },
   "outputs": [],
   "source": []
  },
  {
   "cell_type": "code",
   "execution_count": null,
   "metadata": {
    "collapsed": true
   },
   "outputs": [],
   "source": []
  },
  {
   "cell_type": "code",
   "execution_count": null,
   "metadata": {
    "collapsed": true
   },
   "outputs": [],
   "source": []
  },
  {
   "cell_type": "code",
   "execution_count": null,
   "metadata": {
    "collapsed": true
   },
   "outputs": [],
   "source": []
  }
 ],
 "metadata": {
  "kernelspec": {
   "display_name": "Python 2",
   "language": "python",
   "name": "python2"
  },
  "language_info": {
   "codemirror_mode": {
    "name": "ipython",
    "version": 2
   },
   "file_extension": ".py",
   "mimetype": "text/x-python",
   "name": "python",
   "nbconvert_exporter": "python",
   "pygments_lexer": "ipython2",
   "version": "2.7.11"
  }
 },
 "nbformat": 4,
 "nbformat_minor": 0
}
