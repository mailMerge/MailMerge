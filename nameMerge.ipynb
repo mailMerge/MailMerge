{
 "cells": [
  {
   "cell_type": "code",
   "execution_count": 6,
   "metadata": {
    "collapsed": true
   },
   "outputs": [],
   "source": [
    "import os \n",
    "import pandas as pd\n",
    "import numpy as np"
   ]
  },
  {
   "cell_type": "code",
   "execution_count": 7,
   "metadata": {
    "collapsed": false,
    "scrolled": false
   },
   "outputs": [],
   "source": [
    "    \n",
    "#df= pd.read_excel('/home/jpack/workspace/mailMerge/Data/Greater Buffalo Business partners and ECI.xlsx')\n",
    "df= pd.read_excel('/home/jpack/workspace/mailMerge/Data/testFile.xlsx')\n",
    "\n"
   ]
  },
  {
   "cell_type": "code",
   "execution_count": 8,
   "metadata": {
    "collapsed": false,
    "scrolled": true
   },
   "outputs": [],
   "source": [
    "def nameMerge(df):\n",
    "    # pick out the names columns and store them in a temporary dataframe \"df1\" \n",
    "    df1 = df[['First Name','Last Name', \"Fullname\" ]]\n",
    "    #convert the dataframe to a 3d matrix(array)\n",
    "    col1 = df1.as_matrix(columns=None);\n",
    "\n",
    "    nameList =[] # list of full names\n",
    "    for name in col1:\n",
    "        first = str(name[0])\n",
    "        last = str(name[1])\n",
    "        ful = str(name[2])\n",
    "        if first == \"nan\":\n",
    "            first =\"\"\n",
    "        if last == \"nan\":\n",
    "            last = \"\"\n",
    "        else:\n",
    "            last += \", \"\n",
    "        if ful == \"nan\":\n",
    "            full = last+first\n",
    "        else:\n",
    "            full = ful\n",
    "        nameList.append(full)\n",
    "    \n",
    "    df[\"Fullname\"] = nameList"
   ]
  },
  {
   "cell_type": "code",
   "execution_count": 9,
   "metadata": {
    "collapsed": false
   },
   "outputs": [],
   "source": [
    "nameMerge(df)"
   ]
  },
  {
   "cell_type": "code",
   "execution_count": null,
   "metadata": {
    "collapsed": true
   },
   "outputs": [],
   "source": []
  }
 ],
 "metadata": {
  "kernelspec": {
   "display_name": "Python 2",
   "language": "python",
   "name": "python2"
  },
  "language_info": {
   "codemirror_mode": {
    "name": "ipython",
    "version": 2
   },
   "file_extension": ".py",
   "mimetype": "text/x-python",
   "name": "python",
   "nbconvert_exporter": "python",
   "pygments_lexer": "ipython2",
   "version": "2.7.11"
  }
 },
 "nbformat": 4,
 "nbformat_minor": 0
}
