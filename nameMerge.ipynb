{
 "cells": [
  {
   "cell_type": "code",
   "execution_count": 47,
   "metadata": {
    "collapsed": true
   },
   "outputs": [],
   "source": [
    "import os \n",
    "import pandas as pd"
   ]
  },
  {
   "cell_type": "code",
   "execution_count": 48,
   "metadata": {
    "collapsed": false,
    "scrolled": false
   },
   "outputs": [],
   "source": [
    "    \n",
    "df= pd.read_excel('/home/jpack/workspace/mailMerge/Data/Greater Buffalo Business partners and ECI.xlsx')\n"
   ]
  },
  {
   "cell_type": "code",
   "execution_count": 71,
   "metadata": {
    "collapsed": false,
    "scrolled": true
   },
   "outputs": [],
   "source": [
    "\n",
    "header = list(df)\n",
    "#assuming the name of \"name column\" is known\n",
    "df1 = df[['Firstname','Lastname']]\n",
    "col1 = df1.as_matrix(columns=None);\n",
    "# ^convert column to array\n",
    "\n"
   ]
  },
  {
   "cell_type": "code",
   "execution_count": 50,
   "metadata": {
    "collapsed": false
   },
   "outputs": [],
   "source": [
    "# if header contains first name or last name column, do nothing.\n",
    "def isDone(): \n",
    "    for s in header:\n",
    "        if 'FullName' in s.lower():\n",
    "            return True\n",
    "        else: return False"
   ]
  },
  {
   "cell_type": "code",
   "execution_count": 68,
   "metadata": {
    "collapsed": false
   },
   "outputs": [],
   "source": [
    "# if name column haven't been splited, find the name column\n",
    "# cuz we have already knew the column must be name column, no need for \"tag\"\n",
    "def nameMerge():\n",
    "    nameList =[]\n",
    "    for name in col1:\n",
    "        first = name[0]\n",
    "        last = name[1]\n",
    "        full = last +\", \"+first\n",
    "        nameList.append(full)\n",
    "        \n",
    "    return nameList"
   ]
  }
 ],
 "metadata": {
  "kernelspec": {
   "display_name": "Python 2",
   "language": "python",
   "name": "python2"
  },
  "language_info": {
   "codemirror_mode": {
    "name": "ipython",
    "version": 2
   },
   "file_extension": ".py",
   "mimetype": "text/x-python",
   "name": "python",
   "nbconvert_exporter": "python",
   "pygments_lexer": "ipython2",
   "version": "2.7.11"
  }
 },
 "nbformat": 4,
 "nbformat_minor": 0
}
