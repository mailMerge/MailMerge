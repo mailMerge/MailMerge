{
 "cells": [
  {
   "cell_type": "code",
   "execution_count": 2,
   "metadata": {
    "collapsed": true
   },
   "outputs": [],
   "source": [
    "import os \n",
    "import pandas as pd\n",
    "import probablepeople as pp"
   ]
  },
  {
   "cell_type": "code",
   "execution_count": 3,
   "metadata": {
    "collapsed": false,
    "scrolled": false
   },
   "outputs": [],
   "source": [
    "    \n",
    "df= pd.read_excel('/home/jpack/workspace/mailMerge/Data/2159StudentsAddFERPAisN.XLSX')\n"
   ]
  },
  {
   "cell_type": "code",
   "execution_count": 21,
   "metadata": {
    "collapsed": false,
    "scrolled": true
   },
   "outputs": [
    {
     "data": {
      "text/plain": [
       "740"
      ]
     },
     "execution_count": 21,
     "metadata": {},
     "output_type": "execute_result"
    }
   ],
   "source": [
    "\n",
    "header = list(df)\n",
    "#assuming the name of \"name column\" is known, we pick out the column\n",
    "df1 = df[['PERSON_NAME']]\n",
    "col = df1.as_matrix(columns=None);\n",
    "# ^convert column to array\n",
    "\n",
    "len(col)"
   ]
  },
  {
   "cell_type": "code",
   "execution_count": 14,
   "metadata": {
    "collapsed": false
   },
   "outputs": [],
   "source": [
    "# if header contains first name or last name column, do nothing.\n",
    "def isDone(): \n",
    "    for s in header:\n",
    "        if 'first' in s.lower():\n",
    "            return True\n",
    "        else: return False"
   ]
  },
  {
   "cell_type": "code",
   "execution_count": null,
   "metadata": {
    "collapsed": true
   },
   "outputs": [],
   "source": [
    "# if name column haven't been splited, find the name column\n",
    "# cuz we have already knew the column must be name column, no need for \"tag\"\n",
    "def nameSplit():\n",
    "    firstNameList = []\n",
    "    middleNameList = []\n",
    "    lastNameList =[]\n",
    "    \n",
    "    for name in col:\n",
    "        try:\n",
    "            pp.tag(name)\n",
    "            dic = pp.parse(name)\n",
    "            d = dict(dic)\n",
    "            # reverse mapping\n",
    "            d =  { v: k for k,v in d.items()}\n",
    "            \n",
    "            try:\n",
    "                firstNameList.append(d['GivenName'])\n",
    "            except KeyError:\n",
    "                firstNameList.append(' ')\n",
    "            try:\n",
    "                middleNamelist.append(d['MiddleName'])\n",
    "            except KeyError:\n",
    "                if 'MiddleInitial' in name:\n",
    "                    middleNameList.append(d['MiddleInitial'])\n",
    "                else:\n",
    "                    middleNameList.append(' ')\n",
    "            try:\n",
    "                lastNameList.append(d['Surname'])\n",
    "            except KeyError:\n",
    "                lastNameList.append(' ')\n",
    "                \n",
    "        except RepeatedLabelError:\n",
    "            #deal with ansian names here and as far as I know, \n",
    "            # e.g xxx, xxx xxx\n",
    "            #         ^the second and the third segment are both considered as one first name  \n",
    "            \n",
    "            if ',' in name: \n",
    "                names = name.split(\",\")\n",
    "                lastNameList.append(names[0])# last name\n",
    "                firstNameList.append(names[1])\n",
    "            else: # if there isn't a ','\n",
    "                names = name.split(' ')\n",
    "                if(len(names)>2):\n",
    "                    firstNameList.append(names[0] + name[1])\n",
    "                else:\n",
    "                    firstNameList.append(names[0])\n",
    "                \n",
    "                lastNameList.append(names[len(names)-1])\n",
    "                \n",
    "            \n",
    "        "
   ]
  }
 ],
 "metadata": {
  "kernelspec": {
   "display_name": "Python 2",
   "language": "python",
   "name": "python2"
  },
  "language_info": {
   "codemirror_mode": {
    "name": "ipython",
    "version": 2
   },
   "file_extension": ".py",
   "mimetype": "text/x-python",
   "name": "python",
   "nbconvert_exporter": "python",
   "pygments_lexer": "ipython2",
   "version": "2.7.11"
  }
 },
 "nbformat": 4,
 "nbformat_minor": 0
}
